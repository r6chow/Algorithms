{
 "cells": [
  {
   "cell_type": "markdown",
   "metadata": {
    "colab_type": "text",
    "id": "G7v0c7eWM8qX"
   },
   "source": [
    "# Code Matrix:   Error-Correcting Output Codes"
   ]
  },
  {
   "cell_type": "markdown",
   "metadata": {
    "colab_type": "text",
    "id": "_A1p4vc9JDeT"
   },
   "source": [
    "## The typical one discriminant per class \n",
    "It corresponds to the diagonal code matrix where L = K. For example, for K = 4,"
   ]
  },
  {
   "cell_type": "code",
   "execution_count": 67,
   "metadata": {
    "colab": {},
    "colab_type": "code",
    "id": "ENFGDnZ2NCHq"
   },
   "outputs": [],
   "source": [
    "%matplotlib inline\n",
    "\n",
    "import numpy as np\n",
    "\n",
    "# Code Matrix, 4 classifier, 4 classes\n",
    "W=np.array([\n",
    "   [+1, -1, -1,-1],  # A\n",
    "   [-1, +1, -1,-1],  # B\n",
    "   [-1, -1, +1,-1],  # C\n",
    "   [-1, -1, -1,+1]]) # D"
   ]
  },
  {
   "cell_type": "code",
   "execution_count": 68,
   "metadata": {
    "colab": {
     "base_uri": "https://localhost:8080/",
     "height": 35
    },
    "colab_type": "code",
    "id": "UuUxeXXhJlbd",
    "outputId": "1be81be5-2141-4d81-dae4-dbdc86bf7f49"
   },
   "outputs": [
    {
     "data": {
      "text/plain": [
       "array([-0.11156779,  0.27586835,  0.39728899, -0.19773968])"
      ]
     },
     "execution_count": 68,
     "metadata": {},
     "output_type": "execute_result"
    }
   ],
   "source": [
    "# Four Classifier decision\n",
    "D=np.random.uniform(-1,+1,4)\n",
    "D\n",
    "# first classifer says is class A, second undecided, third:C, fourth:C"
   ]
  },
  {
   "cell_type": "code",
   "execution_count": 69,
   "metadata": {
    "colab": {
     "base_uri": "https://localhost:8080/",
     "height": 35
    },
    "colab_type": "code",
    "id": "QVvMc85vJW_x",
    "outputId": "8a294ea4-5929-454d-919e-a7875dfef205"
   },
   "outputs": [
    {
     "data": {
      "text/plain": [
       "-0.5869854462167978"
      ]
     },
     "execution_count": 69,
     "metadata": {},
     "output_type": "execute_result"
    }
   ],
   "source": [
    "# What L classifiers think about class A\n",
    "y0= np.dot(W[0,:], D)\n",
    "y0"
   ]
  },
  {
   "cell_type": "code",
   "execution_count": 70,
   "metadata": {
    "colab": {
     "base_uri": "https://localhost:8080/",
     "height": 35
    },
    "colab_type": "code",
    "id": "NGvpZGn-JXHB",
    "outputId": "d1cb6607-84db-4a61-f82d-424038de91a3"
   },
   "outputs": [
    {
     "data": {
      "text/plain": [
       "array([-0.58698545,  0.18788683,  0.43072811, -0.75932924])"
      ]
     },
     "execution_count": 70,
     "metadata": {},
     "output_type": "execute_result"
    }
   ],
   "source": [
    "# What the classifiers think about entire classes\n",
    "y= np.dot(W, D)\n",
    "y"
   ]
  },
  {
   "cell_type": "code",
   "execution_count": 71,
   "metadata": {
    "colab": {
     "base_uri": "https://localhost:8080/",
     "height": 35
    },
    "colab_type": "code",
    "id": "gsuqeLs2JXK5",
    "outputId": "7ad92ae1-8392-4f3c-ac4e-77bace47cd1c"
   },
   "outputs": [
    {
     "data": {
      "text/plain": [
       "'C'"
      ]
     },
     "execution_count": 71,
     "metadata": {},
     "output_type": "execute_result"
    }
   ],
   "source": [
    "# Solution\n",
    "Letters='A B C D'.split()\n",
    "Letters[np.argmax(y)]"
   ]
  },
  {
   "cell_type": "markdown",
   "metadata": {
    "colab_type": "text",
    "id": "c3WF14YTJ-Y7"
   },
   "source": [
    "## Randomly generated code matrix\n",
    "With K classes, there are $2^{ (K−1)} − 1$ possible columns, namely, two-class problems\n",
    "For 4 classes , $2^{4-1} -1 = 7$  learners"
   ]
  },
  {
   "cell_type": "code",
   "execution_count": 72,
   "metadata": {
    "colab": {},
    "colab_type": "code",
    "id": "qAwjiP3wJU-C"
   },
   "outputs": [],
   "source": [
    "import numpy as np\n",
    "W=np.array([\n",
    "   [-1, -1, -1,-1, -1, -1,-1],\n",
    "   [-1, -1, -1,+1, +1, +1,+1],\n",
    "   [-1, +1, +1,-1, -1, +1,+1],\n",
    "   [+1, -1, +1,-1, +1, -1,+1]])\n"
   ]
  },
  {
   "cell_type": "code",
   "execution_count": 73,
   "metadata": {
    "colab": {
     "base_uri": "https://localhost:8080/",
     "height": 35
    },
    "colab_type": "code",
    "id": "SAY2VzCmcDMY",
    "outputId": "2caba5ad-d8eb-4c9f-cc5d-602235be8a9c"
   },
   "outputs": [
    {
     "name": "stdout",
     "output_type": "stream",
     "text": [
      "10011"
     ]
    }
   ],
   "source": [
    "def convertToBinary(n):\n",
    " if n > 1:\n",
    "  convertToBinary(n//2)\n",
    " print(n % 2,end = '')\n",
    "\n",
    "convertToBinary(19)\n"
   ]
  },
  {
   "cell_type": "code",
   "execution_count": 74,
   "metadata": {
    "colab": {
     "base_uri": "https://localhost:8080/",
     "height": 52
    },
    "colab_type": "code",
    "id": "13q3r_cacE8Z",
    "outputId": "e0e44eb2-03cf-4ce3-b15f-1070e1de0f78"
   },
   "outputs": [
    {
     "data": {
      "text/plain": [
       "array([-0.54765276,  0.28113149, -0.43160075,  0.8270654 ,  0.39253299,\n",
       "        0.4504419 ,  0.21734745])"
      ]
     },
     "execution_count": 74,
     "metadata": {},
     "output_type": "execute_result"
    }
   ],
   "source": [
    "D=np.random.uniform(-1,+1,7)\n",
    "D\n",
    "\n",
    "# first:D, second A or B or D, ....."
   ]
  },
  {
   "attachments": {
    "image.png": {
     "image/png": "[encoded data removed]"
    }
   },
   "cell_type": "markdown",
   "metadata": {
    "colab": {
     "base_uri": "https://localhost:8080/",
     "height": 111
    },
    "colab_type": "code",
    "id": "xWbRCSbnBFti",
    "outputId": "81ba47bd-9d69-4453-cba2-ff983c48c4f4"
   },
   "source": [
    "![image.png](attachment:image.png)"
   ]
  },
  {
   "cell_type": "code",
   "execution_count": 75,
   "metadata": {
    "colab": {},
    "colab_type": "code",
    "id": "AMaNrbXjdIft"
   },
   "outputs": [],
   "source": [
    "y0= np.dot(W[0,:], D)"
   ]
  },
  {
   "cell_type": "code",
   "execution_count": 76,
   "metadata": {
    "colab": {
     "base_uri": "https://localhost:8080/",
     "height": 35
    },
    "colab_type": "code",
    "id": "FJvvrNsUeI1R",
    "outputId": "16d711b7-e8a7-45f2-b997-a5ca650b1786"
   },
   "outputs": [
    {
     "data": {
      "text/plain": [
       "-1.1892657092791894"
      ]
     },
     "execution_count": 76,
     "metadata": {},
     "output_type": "execute_result"
    }
   ],
   "source": [
    "y0"
   ]
  },
  {
   "cell_type": "code",
   "execution_count": 77,
   "metadata": {
    "colab": {
     "base_uri": "https://localhost:8080/",
     "height": 35
    },
    "colab_type": "code",
    "id": "HcbXm3T8eb5z",
    "outputId": "d18026f5-223e-4350-8e26-92556222412d"
   },
   "outputs": [
    {
     "data": {
      "text/plain": [
       "array([-1.18926571,  2.58550975, -0.15462553, -1.92801184])"
      ]
     },
     "execution_count": 77,
     "metadata": {},
     "output_type": "execute_result"
    }
   ],
   "source": [
    "y= np.dot(W, D)\n",
    "y"
   ]
  },
  {
   "cell_type": "code",
   "execution_count": 78,
   "metadata": {
    "colab": {
     "base_uri": "https://localhost:8080/",
     "height": 35
    },
    "colab_type": "code",
    "id": "_DOf-e_Mejvj",
    "outputId": "b555b83e-aeb9-40bb-dfd3-7dd236aa852f"
   },
   "outputs": [
    {
     "data": {
      "text/plain": [
       "'B'"
      ]
     },
     "execution_count": 78,
     "metadata": {},
     "output_type": "execute_result"
    }
   ],
   "source": [
    "# Solution\n",
    "Letters[np.argmax(y)]"
   ]
  },
  {
   "cell_type": "code",
   "execution_count": 79,
   "metadata": {
    "colab": {
     "base_uri": "https://localhost:8080/",
     "height": 191
    },
    "colab_type": "code",
    "id": "BwWZPsQNekRs",
    "outputId": "346be5ac-5806-41fc-bb8b-b11ab73efd2c"
   },
   "outputs": [
    {
     "name": "stdout",
     "output_type": "stream",
     "text": [
      "D\n",
      "B\n",
      "B\n",
      "A\n",
      "B\n",
      "B\n",
      "C\n",
      "B\n",
      "D\n",
      "A\n"
     ]
    }
   ],
   "source": [
    "for i in range(10):\n",
    " D=np.random.uniform(-1,+1,7)\n",
    " y=np.dot(W,D)\n",
    " print(Letters[np.argmax(y)])"
   ]
  },
  {
   "cell_type": "markdown",
   "metadata": {
    "colab_type": "text",
    "id": "AZ-5THAEJdYE"
   },
   "source": [
    "## Pairwise separation of classes"
   ]
  },
  {
   "cell_type": "code",
   "execution_count": 80,
   "metadata": {
    "colab": {},
    "colab_type": "code",
    "id": "8BiJYYFxe6QK"
   },
   "outputs": [],
   "source": [
    "# ignore 0\n",
    "W=np.array([\n",
    "   [+1, +1, +1, 0,  0, 0],\n",
    "   [-1,  0,  0,+1, +1, 0],\n",
    "   [ 0, -1,  0,-1,  0, +1],\n",
    "   [ 0,  0, -1, 0, -1, -1]])"
   ]
  },
  {
   "cell_type": "code",
   "execution_count": 81,
   "metadata": {
    "colab": {
     "base_uri": "https://localhost:8080/",
     "height": 52
    },
    "colab_type": "code",
    "id": "ugNP6F-WRrtI",
    "outputId": "d754dbd1-85f5-4d2d-e7eb-5c6239322222"
   },
   "outputs": [
    {
     "data": {
      "text/plain": [
       "array([0.24799348, 0.76739472, 0.14010964, 0.37503857, 0.23997737,\n",
       "       0.01228904])"
      ]
     },
     "execution_count": 81,
     "metadata": {},
     "output_type": "execute_result"
    }
   ],
   "source": [
    "D=np.random.uniform(-1,+1,6)\n",
    "D\n"
   ]
  },
  {
   "cell_type": "code",
   "execution_count": 82,
   "metadata": {
    "colab": {
     "base_uri": "https://localhost:8080/",
     "height": 35
    },
    "colab_type": "code",
    "id": "qjAkJ_K6R5Xq",
    "outputId": "e1b0f633-2ac0-46e6-8953-e78feedd2b3b"
   },
   "outputs": [
    {
     "data": {
      "text/plain": [
       "1.1554978399968"
      ]
     },
     "execution_count": 82,
     "metadata": {},
     "output_type": "execute_result"
    }
   ],
   "source": [
    "y0= np.dot(W[0,:], D)\n",
    "y0"
   ]
  },
  {
   "cell_type": "code",
   "execution_count": 83,
   "metadata": {
    "colab": {
     "base_uri": "https://localhost:8080/",
     "height": 35
    },
    "colab_type": "code",
    "id": "tl5dlNeTR0lv",
    "outputId": "2a3160be-d62c-454a-fd59-ee5e8230a281"
   },
   "outputs": [
    {
     "data": {
      "text/plain": [
       "array([ 1.15549784,  0.36702245, -1.13014424, -0.39237605])"
      ]
     },
     "execution_count": 83,
     "metadata": {},
     "output_type": "execute_result"
    }
   ],
   "source": [
    "y= np.dot(W, D)\n",
    "y"
   ]
  },
  {
   "cell_type": "code",
   "execution_count": 84,
   "metadata": {
    "colab": {
     "base_uri": "https://localhost:8080/",
     "height": 35
    },
    "colab_type": "code",
    "id": "1KQ5KoQeUZ77",
    "outputId": "c6ee5f39-0e8f-4c83-dd14-39af94ee5717"
   },
   "outputs": [
    {
     "name": "stdout",
     "output_type": "stream",
     "text": [
      "A\n"
     ]
    }
   ],
   "source": [
    "print(Letters[np.argmax(y)])"
   ]
  },
  {
   "cell_type": "code",
   "execution_count": 85,
   "metadata": {
    "colab": {
     "base_uri": "https://localhost:8080/",
     "height": 35
    },
    "colab_type": "code",
    "id": "iMT-YY4uUdCb",
    "outputId": "34e51b84-b79f-4bac-daa5-bd2ae276ac06"
   },
   "outputs": [
    {
     "data": {
      "text/plain": [
       "array([-1,  1,  0,  0])"
      ]
     },
     "execution_count": 85,
     "metadata": {},
     "output_type": "execute_result"
    }
   ],
   "source": [
    "# OR \n",
    "D=[-1,0,0,0,0,0]\n",
    "y= np.dot(W, D)\n",
    "y\n"
   ]
  },
  {
   "cell_type": "code",
   "execution_count": 86,
   "metadata": {
    "colab": {
     "base_uri": "https://localhost:8080/",
     "height": 35
    },
    "colab_type": "code",
    "id": "mIhNWUGqUk3c",
    "outputId": "ef6ca9c6-ad2d-4be4-c266-a488fc9dac2e"
   },
   "outputs": [
    {
     "data": {
      "text/plain": [
       "array([ 1, -1,  0,  0])"
      ]
     },
     "execution_count": 86,
     "metadata": {},
     "output_type": "execute_result"
    }
   ],
   "source": [
    "# OR \n",
    "D=[1,0,0,0,0,0]\n",
    "y= np.dot(W, D)\n",
    "y"
   ]
  },
  {
   "cell_type": "code",
   "execution_count": 87,
   "metadata": {
    "colab": {
     "base_uri": "https://localhost:8080/",
     "height": 35
    },
    "colab_type": "code",
    "id": "l2pg-99jU2dt",
    "outputId": "40a465b3-a6e1-4154-bc93-268ff162d705"
   },
   "outputs": [
    {
     "name": "stdout",
     "output_type": "stream",
     "text": [
      "A\n"
     ]
    }
   ],
   "source": [
    "print(Letters[np.argmax(y)])"
   ]
  },
  {
   "cell_type": "markdown",
   "metadata": {
    "colab_type": "text",
    "id": "X1-7DHdqZcUV"
   },
   "source": [
    "# Bagging\n",
    "* Generate L samples $X_{j} , j =1, . . . , L, $\n",
    "* The base-learners $d_{j}$ are trained with these L samples $X_{j} $.\n",
    "* During test, do average or apply mode"
   ]
  },
  {
   "cell_type": "code",
   "execution_count": 163,
   "metadata": {
    "colab": {
     "base_uri": "https://localhost:8080/",
     "height": 69
    },
    "colab_type": "code",
    "id": "OVd3MS9bZnUy",
    "outputId": "6e4dd57c-c6a3-4301-f340-b2ddd507182d"
   },
   "outputs": [],
   "source": [
    "from keras.datasets import boston_housing\n",
    "(x_train, y_train), (x_test, y_test) = boston_housing.load_data()"
   ]
  },
  {
   "cell_type": "code",
   "execution_count": 164,
   "metadata": {},
   "outputs": [
    {
     "data": {
      "text/plain": [
       "array([2.1770e-02, 8.2500e+01, 2.0300e+00, 0.0000e+00, 4.1500e-01,\n",
       "       7.6100e+00, 1.5700e+01, 6.2700e+00, 2.0000e+00, 3.4800e+02,\n",
       "       1.4700e+01, 3.9538e+02, 3.1100e+00])"
      ]
     },
     "execution_count": 164,
     "metadata": {},
     "output_type": "execute_result"
    }
   ],
   "source": [
    "x_train[1]"
   ]
  },
  {
   "cell_type": "code",
   "execution_count": 165,
   "metadata": {
    "colab": {
     "base_uri": "https://localhost:8080/",
     "height": 35
    },
    "colab_type": "code",
    "id": "OECwo2zjaMSV",
    "outputId": "9baa0895-e4c1-4254-f065-63d37db690c0"
   },
   "outputs": [
    {
     "data": {
      "text/plain": [
       "(404, 13)"
      ]
     },
     "execution_count": 165,
     "metadata": {},
     "output_type": "execute_result"
    }
   ],
   "source": [
    "x_train.shape"
   ]
  },
  {
   "cell_type": "code",
   "execution_count": 166,
   "metadata": {
    "colab": {
     "base_uri": "https://localhost:8080/",
     "height": 659
    },
    "colab_type": "code",
    "id": "ysMUWqguaOI9",
    "outputId": "4579b0df-403f-48c7-d0ba-0bc413771142"
   },
   "outputs": [
    {
     "data": {
      "text/plain": [
       "404"
      ]
     },
     "execution_count": 166,
     "metadata": {},
     "output_type": "execute_result"
    }
   ],
   "source": [
    "len(y_train)"
   ]
  },
  {
   "cell_type": "code",
   "execution_count": 167,
   "metadata": {
    "colab": {},
    "colab_type": "code",
    "id": "mtIIIV36aQ09"
   },
   "outputs": [],
   "source": [
    "import sklearn\n",
    "from sklearn.linear_model import LinearRegression"
   ]
  },
  {
   "cell_type": "code",
   "execution_count": 168,
   "metadata": {
    "colab": {},
    "colab_type": "code",
    "id": "h5V_TEOnaj7O"
   },
   "outputs": [],
   "source": [
    "clf= LinearRegression()\n",
    "clf.fit(x_train, y_train)\n",
    "pred=clf.predict(x_test)"
   ]
  },
  {
   "cell_type": "code",
   "execution_count": 169,
   "metadata": {},
   "outputs": [
    {
     "data": {
      "text/plain": [
       "102"
      ]
     },
     "execution_count": 169,
     "metadata": {},
     "output_type": "execute_result"
    }
   ],
   "source": [
    "len(pred)"
   ]
  },
  {
   "cell_type": "code",
   "execution_count": 170,
   "metadata": {},
   "outputs": [
    {
     "data": {
      "text/plain": [
       "array([ 9.69267239, 21.05859431, 20.94145461, 34.25223414, 25.95902598,\n",
       "       20.56741038, 28.15310405, 25.07113862, 20.30519458, 22.82489511,\n",
       "       20.29027213, 18.07938917, 16.46141024, 35.31166595, 19.41369959,\n",
       "       19.34727116, 24.58140904, 21.01346252, 19.99079236, 23.79286427,\n",
       "       12.20780045, 17.14218992, 22.51468752, 12.92570511, 21.18070615,\n",
       "       23.94073547, 33.46176314, 24.2631555 , 13.35213096, 20.71939252,\n",
       "       23.45082103, 19.1486881 , 36.09743765, 23.47113531, 19.03141995,\n",
       "        5.92425733, 14.02090469, 22.96425377, 16.01731242, 27.09134249,\n",
       "       22.06997029, 28.61755389, 17.75679772, 34.75579014, 31.29455712,\n",
       "       24.73234165, 31.12655323, 18.09268992, 22.62638989, 24.21208909,\n",
       "       30.5854317 , 18.71860574, 10.50163617, 13.73779292, 34.4022841 ,\n",
       "       27.53140317, 18.08151522, 40.05101982, 37.63271513, 24.64021422,\n",
       "       25.73823434, 20.64369987, 20.33514699, 21.38393124, 24.63485497,\n",
       "       23.53071805, 17.42141466, 26.76911736,  3.83782148, 11.97063636,\n",
       "       24.2602519 , 23.67191799, 23.66639182,  8.4403269 , 28.52690962,\n",
       "       20.94071229, 20.44489658, 24.77678169, 33.77299778,  7.02038331,\n",
       "       24.55379254, 36.73923493, 16.09878612, 18.14663987, 20.48899554,\n",
       "       18.7928142 , 22.45683561, 26.19154506, 23.36585592, 28.89583791,\n",
       "       17.48243942, 16.05642916, 26.69532678, 28.1393996 , 35.04164989,\n",
       "       20.05308052, 36.25269116, 38.51475052, 25.13506119, 41.49062194,\n",
       "       34.65500235, 25.33950895])"
      ]
     },
     "execution_count": 170,
     "metadata": {},
     "output_type": "execute_result"
    }
   ],
   "source": [
    "pred"
   ]
  },
  {
   "cell_type": "code",
   "execution_count": 171,
   "metadata": {
    "colab": {
     "base_uri": "https://localhost:8080/",
     "height": 35
    },
    "colab_type": "code",
    "id": "MTKD6JHXaubX",
    "outputId": "c643145d-27c8-4041-aa92-381e9a3d237f"
   },
   "outputs": [
    {
     "data": {
      "text/plain": [
       "3.464185812406727"
      ]
     },
     "execution_count": 171,
     "metadata": {},
     "output_type": "execute_result"
    }
   ],
   "source": [
    "\n",
    "sklearn.metrics.mean_absolute_error(pred, y_test)"
   ]
  },
  {
   "cell_type": "code",
   "execution_count": 172,
   "metadata": {
    "colab": {
     "base_uri": "https://localhost:8080/",
     "height": 35
    },
    "colab_type": "code",
    "id": "lZnqfLJPa8CA",
    "outputId": "106d3eee-ec6b-427e-8e08-61c18bd2774a"
   },
   "outputs": [
    {
     "data": {
      "text/plain": [
       "(23.07843137254902, 9.123806690181466)"
      ]
     },
     "execution_count": 172,
     "metadata": {},
     "output_type": "execute_result"
    }
   ],
   "source": [
    "np.mean(y_test),np.std(y_test)"
   ]
  },
  {
   "cell_type": "code",
   "execution_count": 173,
   "metadata": {
    "colab": {
     "base_uri": "https://localhost:8080/",
     "height": 191
    },
    "colab_type": "code",
    "id": "SQ7norRSbGxZ",
    "outputId": "fcabc7b6-9aab-4912-dde7-9baffc8b74ca"
   },
   "outputs": [
    {
     "data": {
      "text/plain": [
       "array([ 7.2, 18.8, 19. , 27. , 22.2, 24.5, 31.2, 22.9, 20.5, 23.2, 18.6,\n",
       "       14.5, 17.8, 50. , 20.8, 24.3, 24.2, 19.8, 19.1, 22.7, 12. , 10.2,\n",
       "       20. , 18.5, 20.9, 23. , 27.5, 30.1,  9.5, 22. , 21.2, 14.1, 33.1,\n",
       "       23.4, 20.1,  7.4, 15.4, 23.8, 20.1, 24.5, 33. , 28.4, 14.1, 46.7,\n",
       "       32.5, 29.6, 28.4, 19.8, 20.2, 25. , 35.4, 20.3,  9.7, 14.5, 34.9,\n",
       "       26.6,  7.2, 50. , 32.4, 21.6, 29.8, 13.1, 27.5, 21.2, 23.1, 21.9,\n",
       "       13. , 23.2,  8.1,  5.6, 21.7, 29.6, 19.6,  7. , 26.4, 18.9, 20.9,\n",
       "       28.1, 35.4, 10.2, 24.3, 43.1, 17.6, 15.4, 16.2, 27.1, 21.4, 21.5,\n",
       "       22.4, 25. , 16.6, 18.6, 22. , 42.8, 35.1, 21.5, 36. , 21.9, 24.1,\n",
       "       50. , 26.7, 25. ])"
      ]
     },
     "execution_count": 173,
     "metadata": {},
     "output_type": "execute_result"
    }
   ],
   "source": [
    "y_test"
   ]
  },
  {
   "cell_type": "code",
   "execution_count": 174,
   "metadata": {
    "colab": {
     "base_uri": "https://localhost:8080/",
     "height": 347
    },
    "colab_type": "code",
    "id": "ailbL0TrbJPZ",
    "outputId": "8670f7b4-84ef-41c0-ac3f-8c860abb91dc"
   },
   "outputs": [
    {
     "data": {
      "image/png": "[encoded data removed]",
      "text/plain": [
       "<Figure size 432x288 with 1 Axes>"
      ]
     },
     "metadata": {},
     "output_type": "display_data"
    }
   ],
   "source": [
    "import matplotlib.pyplot as plt\n",
    "import numpy as np\n",
    "plt.scatter(pred, y_test, marker=r'$\\bowtie$',\n",
    "            label=\"Pred\")\n",
    "plt.show()"
   ]
  },
  {
   "cell_type": "code",
   "execution_count": 175,
   "metadata": {
    "colab": {
     "base_uri": "https://localhost:8080/",
     "height": 35
    },
    "colab_type": "code",
    "id": "yt-2egH3bmXE",
    "outputId": "1583ef27-036a-47e6-9d1e-5c32399ec061"
   },
   "outputs": [
    {
     "data": {
      "text/plain": [
       "(404, 13)"
      ]
     },
     "execution_count": 175,
     "metadata": {},
     "output_type": "execute_result"
    }
   ],
   "source": [
    "x_train.shape"
   ]
  },
  {
   "cell_type": "code",
   "execution_count": 176,
   "metadata": {
    "colab": {
     "base_uri": "https://localhost:8080/",
     "height": 35
    },
    "colab_type": "code",
    "id": "mmK1eDWPcMD9",
    "outputId": "17c4fe3b-3f80-4149-c29d-3c4fdfc685d9"
   },
   "outputs": [
    {
     "data": {
      "text/plain": [
       "(102, 13)"
      ]
     },
     "execution_count": 176,
     "metadata": {},
     "output_type": "execute_result"
    }
   ],
   "source": [
    "x_test.shape"
   ]
  },
  {
   "cell_type": "code",
   "execution_count": 177,
   "metadata": {
    "colab": {
     "base_uri": "https://localhost:8080/",
     "height": 35
    },
    "colab_type": "code",
    "id": "6rxzAFjEcNXO",
    "outputId": "90dd5407-9478-4867-e803-e5cf84b2ed8f"
   },
   "outputs": [
    {
     "data": {
      "text/plain": [
       "array([  2,  67,  94, 244, 397, 357,  77])"
      ]
     },
     "execution_count": 177,
     "metadata": {},
     "output_type": "execute_result"
    }
   ],
   "source": [
    "# sample \n",
    "idx = np.random.randint(x_train.shape[0], size=7)\n",
    "idx"
   ]
  },
  {
   "cell_type": "code",
   "execution_count": 178,
   "metadata": {
    "colab": {
     "base_uri": "https://localhost:8080/",
     "height": 134
    },
    "colab_type": "code",
    "id": "oVpi3CgBdYaD",
    "outputId": "687c3923-b1c7-42ca-ffb4-cdcc8d97cdc1"
   },
   "outputs": [
    {
     "name": "stdout",
     "output_type": "stream",
     "text": [
      "[[4.89822e+00 0.00000e+00 1.81000e+01 0.00000e+00 6.31000e-01 4.97000e+00\n",
      "  1.00000e+02 1.33250e+00 2.40000e+01 6.66000e+02]\n",
      " [2.20511e+01 0.00000e+00 1.81000e+01 0.00000e+00 7.40000e-01 5.81800e+00\n",
      "  9.24000e+01 1.86620e+00 2.40000e+01 6.66000e+02]\n",
      " [1.20830e-01 0.00000e+00 2.89000e+00 0.00000e+00 4.45000e-01 8.06900e+00\n",
      "  7.60000e+01 3.49520e+00 2.00000e+00 2.76000e+02]\n",
      " [4.07710e-01 0.00000e+00 6.20000e+00 1.00000e+00 5.07000e-01 6.16400e+00\n",
      "  9.13000e+01 3.04800e+00 8.00000e+00 3.07000e+02]\n",
      " [2.29690e-01 0.00000e+00 1.05900e+01 0.00000e+00 4.89000e-01 6.32600e+00\n",
      "  5.25000e+01 4.35490e+00 4.00000e+00 2.77000e+02]\n",
      " [6.72400e-02 0.00000e+00 3.24000e+00 0.00000e+00 4.60000e-01 6.33300e+00\n",
      "  1.72000e+01 5.21460e+00 4.00000e+00 4.30000e+02]\n",
      " [8.81250e-01 0.00000e+00 2.18900e+01 0.00000e+00 6.24000e-01 5.63700e+00\n",
      "  9.47000e+01 1.97990e+00 4.00000e+00 4.37000e+02]]\n"
     ]
    }
   ],
   "source": [
    "print(x_train[idx,:10])"
   ]
  },
  {
   "cell_type": "code",
   "execution_count": 179,
   "metadata": {
    "colab": {
     "base_uri": "https://localhost:8080/",
     "height": 554
    },
    "colab_type": "code",
    "id": "1RIEZSkNcY8G",
    "outputId": "b9bd93a5-1a8d-4cf3-bbb8-7ef90f47ee29"
   },
   "outputs": [
    {
     "data": {
      "text/plain": [
       "array([307, 209, 118, 143, 115, 118, 165, 354, 376, 106, 115, 265, 134,\n",
       "       385,  24,  87,  93, 158, 174, 268,  34, 104, 348,  83,  31, 395,\n",
       "       273, 100, 287, 171, 343,  30, 336, 136, 235, 242, 360, 250, 194,\n",
       "       361,  33, 179, 133, 261, 207, 301, 302, 131, 156,  60,  33,  72,\n",
       "        78, 210, 344,  57, 399, 375, 270, 126,  87,  40, 262, 321, 385,\n",
       "       238, 140, 112, 357, 393, 148,   4, 388, 379,   1, 401,  18, 340,\n",
       "        32, 361, 266, 153, 161, 261, 132,  48,  40, 338, 119, 376, 268,\n",
       "        47, 384, 310, 362, 106,  85, 312, 346,  90,  92, 208,  54, 350,\n",
       "       296,  75,  98, 148, 329, 252, 329,  35, 306, 282,   5,   0,  61,\n",
       "       130,  10, 177,  40,  36, 248, 399,  97, 171, 139, 327,  36, 156,\n",
       "       261, 217, 185, 389,   2, 321, 345, 257, 272, 149,  78, 205, 357,\n",
       "       304, 331,  20, 158, 143, 161, 270, 264, 322, 233,  31,  78,  18,\n",
       "        56,  34, 260, 323,  26, 398, 262, 178, 329, 219, 226,  76, 281,\n",
       "       113, 179, 289,   4, 372, 222,  19, 190,  59, 305, 358, 375,  52,\n",
       "       116, 293, 157, 322,  86, 350,  85, 398,  24, 399, 224, 376, 364,\n",
       "        69, 126, 366, 238,  31, 359, 324,   7, 179, 171, 203, 361, 282,\n",
       "       107, 368, 304, 223, 331, 391, 212, 390, 397, 106, 285, 136, 375,\n",
       "       289, 377, 132, 129,  68, 322, 380,  35,  10, 314, 303, 371, 354,\n",
       "       138, 334,  13,  83, 154, 275, 371, 139, 113, 288, 348, 249, 238,\n",
       "       402, 182, 102, 127,  32, 216, 189,  55, 111, 396, 108,  25, 246,\n",
       "       398, 182, 241,  82,  39, 157, 211,   7, 284, 242, 224, 175, 257,\n",
       "       328, 387,  30, 355, 166, 107, 389,  63, 140, 280, 327, 247, 259,\n",
       "        55, 386, 345, 252, 116, 119, 180, 170,   7, 229, 387, 392, 106,\n",
       "        21, 151, 248, 279,   3, 340, 375,  49, 257, 170, 100,  70,  99,\n",
       "       250, 243, 263,  65, 249,  80, 306, 348, 312, 170, 133, 270, 298,\n",
       "        34, 381, 232, 305,  92, 141,  77, 357, 100, 232,  28, 135, 165,\n",
       "        49,  34, 240, 318, 105, 194,  67,  45,  26, 122, 317, 244, 351,\n",
       "       184, 240,  50,  36, 107, 166, 165, 192, 295, 373, 126,  76,  36,\n",
       "       139, 347, 291, 108,  94, 379, 168, 203, 197, 120, 227, 273, 397,\n",
       "       170, 239,  70, 174, 190, 126,  53, 143, 241, 117, 173, 331,  23,\n",
       "       285, 229, 371,  45, 163, 382, 176, 115, 107, 397, 220, 312,  98,\n",
       "        74])"
      ]
     },
     "execution_count": 179,
     "metadata": {},
     "output_type": "execute_result"
    }
   ],
   "source": [
    "\n",
    "# N= 404\n",
    "idx = np.random.randint(x_train.shape[0], size=404)\n",
    "idx\n",
    "\n",
    "# idx = np.random.choice(range(len(x_train)), 404)\n",
    "# idx"
   ]
  },
  {
   "cell_type": "code",
   "execution_count": 180,
   "metadata": {},
   "outputs": [
    {
     "data": {
      "text/plain": [
       "0"
      ]
     },
     "execution_count": 180,
     "metadata": {},
     "output_type": "execute_result"
    }
   ],
   "source": [
    "min(idx)"
   ]
  },
  {
   "cell_type": "code",
   "execution_count": 181,
   "metadata": {
    "colab": {
     "base_uri": "https://localhost:8080/",
     "height": 34
    },
    "colab_type": "code",
    "id": "95b5LagcdzxM",
    "outputId": "ca0c857b-5323-483f-e90e-8fcdf5113c8a"
   },
   "outputs": [
    {
     "data": {
      "text/plain": [
       "261"
      ]
     },
     "execution_count": 181,
     "metadata": {},
     "output_type": "execute_result"
    }
   ],
   "source": [
    "len(list(set(idx)))"
   ]
  },
  {
   "cell_type": "code",
   "execution_count": 182,
   "metadata": {
    "colab": {
     "base_uri": "https://localhost:8080/",
     "height": 50
    },
    "colab_type": "code",
    "id": "aPuNZjMOd2sN",
    "outputId": "b8f54a3e-65d0-4b22-b390-2084ed8b06ca"
   },
   "outputs": [
    {
     "data": {
      "text/plain": [
       "LinearRegression(copy_X=True, fit_intercept=True, n_jobs=1, normalize=False)"
      ]
     },
     "execution_count": 182,
     "metadata": {},
     "output_type": "execute_result"
    }
   ],
   "source": [
    "x_trainQ= x_train[idx,:]\n",
    "y_trainQ= y_train[idx]\n",
    "\n",
    "clf=LinearRegression()\n",
    "clf.fit(x_trainQ, y_trainQ)"
   ]
  },
  {
   "cell_type": "code",
   "execution_count": 183,
   "metadata": {
    "colab": {},
    "colab_type": "code",
    "id": "ZDlwBIR_ezjX"
   },
   "outputs": [],
   "source": [
    "clfList=[]\n",
    "clfList.append(clf)"
   ]
  },
  {
   "cell_type": "markdown",
   "metadata": {
    "colab_type": "text",
    "id": "n7qXRtfgeTgj"
   },
   "source": [
    "# TASK-1\n",
    "\n",
    "* Create 10 different classifier by sampling the X_TRAIN, BOSTON HOUSE PRICE\n",
    "* Apply your ensembled learners to test data \n"
   ]
  },
  {
   "cell_type": "code",
   "execution_count": 184,
   "metadata": {},
   "outputs": [
    {
     "data": {
      "text/plain": [
       "(404, 13)"
      ]
     },
     "execution_count": 184,
     "metadata": {},
     "output_type": "execute_result"
    }
   ],
   "source": [
    "N = 10\n",
    "clfList = []\n",
    "for i in range(N):\n",
    "    idx = np.random.choice(len(x_train), len(x_train), replace=True)\n",
    "    x = x_train[idx]\n",
    "    y = y_train[idx]\n",
    "    clf=LinearRegression()\n",
    "    clf.fit(x,y)\n",
    "    clfList.append(clf)\n",
    "\n",
    "x_train.shape"
   ]
  },
  {
   "cell_type": "code",
   "execution_count": 191,
   "metadata": {},
   "outputs": [
    {
     "data": {
      "text/plain": [
       "10.254677825077394"
      ]
     },
     "execution_count": 191,
     "metadata": {},
     "output_type": "execute_result"
    }
   ],
   "source": [
    "pred = []\n",
    "i = 0\n",
    "x_test.shape\n",
    "\n",
    "np.mean([clf.predict([x_test[0]])[0] for clf in clfList])"
   ]
  },
  {
   "cell_type": "code",
   "execution_count": null,
   "metadata": {},
   "outputs": [],
   "source": []
  },
  {
   "cell_type": "code",
   "execution_count": null,
   "metadata": {},
   "outputs": [],
   "source": []
  },
  {
   "cell_type": "code",
   "execution_count": null,
   "metadata": {},
   "outputs": [],
   "source": []
  },
  {
   "cell_type": "code",
   "execution_count": null,
   "metadata": {},
   "outputs": [],
   "source": []
  },
  {
   "cell_type": "code",
   "execution_count": null,
   "metadata": {},
   "outputs": [],
   "source": []
  },
  {
   "cell_type": "code",
   "execution_count": null,
   "metadata": {},
   "outputs": [],
   "source": []
  },
  {
   "cell_type": "code",
   "execution_count": null,
   "metadata": {},
   "outputs": [],
   "source": []
  },
  {
   "cell_type": "code",
   "execution_count": 111,
   "metadata": {},
   "outputs": [],
   "source": [
    "N = 10\n",
    "\n",
    "L = []\n",
    "for i in range(N):\n",
    "    idx = np.random.choice(range(len(x_train)), len(x_train))\n",
    "    \n",
    "    x = x_train[idx]\n",
    "    y = y_train[idx]\n",
    "    \n",
    "    clf = LinearRegression()\n",
    "    clf.fit(x,y)\n",
    "    L.append(clf)"
   ]
  },
  {
   "cell_type": "code",
   "execution_count": 129,
   "metadata": {},
   "outputs": [
    {
     "data": {
      "text/plain": [
       "array([ 9.92873549, 20.92749905, 21.46020132, 33.04180895, 26.16646998,\n",
       "       20.65889039, 27.86543045, 25.15922695, 20.39291278, 22.47446912,\n",
       "       20.62391817, 18.23348016, 16.00317744, 35.18116422, 19.41907702,\n",
       "       19.48010147, 24.46003348, 20.87621899, 19.73414233, 22.90497891,\n",
       "       12.23106895, 17.50798672, 22.88337661, 13.22541073, 21.07309046,\n",
       "       23.55858158, 32.59798385, 24.45516803, 13.64012698, 20.72967738,\n",
       "       23.2451589 , 19.09321764, 35.11889451, 23.4201279 , 18.82868904,\n",
       "        6.03701779, 14.29887513, 22.9704424 , 14.6961239 , 27.02958864,\n",
       "       22.08948791, 28.61159585, 17.59194363, 34.55779898, 31.53642121,\n",
       "       25.18849871, 31.42530155, 18.3165921 , 22.38390946, 24.29557977,\n",
       "       30.46986227, 18.75438573, 10.70034999, 13.97789154, 33.82652913,\n",
       "       27.57508446, 17.77753003, 39.65695428, 36.65440604, 24.6730922 ,\n",
       "       25.26703171, 20.3594025 , 20.06999601, 21.41845394, 24.73595959,\n",
       "       23.32553976, 17.35387661, 26.80556621,  2.98148216, 11.68569989,\n",
       "       23.30080028, 23.54950898, 23.28793668,  7.41336453, 28.4821096 ,\n",
       "       21.08330881, 20.44108164, 24.81950042, 33.84431431,  7.29142294,\n",
       "       24.89917724, 36.67536682, 16.40083719, 17.92757064, 20.71571472,\n",
       "       18.88484815, 22.08877032, 25.47660338, 23.26883305, 28.21656259,\n",
       "       17.72760161, 15.94827254, 26.55555274, 27.55903968, 35.1487186 ,\n",
       "       20.1054354 , 36.24595778, 36.71922069, 24.7998556 , 39.65618487,\n",
       "       33.7510342 , 25.21269435])"
      ]
     },
     "execution_count": 129,
     "metadata": {},
     "output_type": "execute_result"
    }
   ],
   "source": [
    "pred = []\n",
    "i = 0\n",
    "for i in range(len(x_test)):\n",
    "    pred.append(np.mean([l.predict([x_test[i]]) for l in L]))\n",
    "\n",
    "L[1].predict\n",
    "pred = np.array(pred)\n",
    "#[l.predict(x_test[i]) for l in L]"
   ]
  },
  {
   "cell_type": "code",
   "execution_count": 130,
   "metadata": {},
   "outputs": [
    {
     "data": {
      "text/plain": [
       "3.4003339594378517"
      ]
     },
     "execution_count": 130,
     "metadata": {},
     "output_type": "execute_result"
    }
   ],
   "source": [
    "sklearn.metrics.mean_absolute_error(pred, y_test)"
   ]
  },
  {
   "cell_type": "code",
   "execution_count": null,
   "metadata": {},
   "outputs": [],
   "source": []
  },
  {
   "cell_type": "code",
   "execution_count": null,
   "metadata": {},
   "outputs": [],
   "source": []
  },
  {
   "cell_type": "code",
   "execution_count": null,
   "metadata": {},
   "outputs": [],
   "source": []
  },
  {
   "cell_type": "code",
   "execution_count": null,
   "metadata": {},
   "outputs": [],
   "source": []
  },
  {
   "cell_type": "code",
   "execution_count": null,
   "metadata": {},
   "outputs": [],
   "source": []
  },
  {
   "cell_type": "code",
   "execution_count": null,
   "metadata": {},
   "outputs": [],
   "source": []
  },
  {
   "cell_type": "code",
   "execution_count": null,
   "metadata": {},
   "outputs": [],
   "source": []
  },
  {
   "cell_type": "code",
   "execution_count": null,
   "metadata": {},
   "outputs": [],
   "source": []
  },
  {
   "cell_type": "code",
   "execution_count": null,
   "metadata": {},
   "outputs": [],
   "source": []
  },
  {
   "cell_type": "code",
   "execution_count": null,
   "metadata": {},
   "outputs": [],
   "source": []
  },
  {
   "cell_type": "code",
   "execution_count": 64,
   "metadata": {
    "colab": {},
    "colab_type": "code",
    "id": "fXFsiS1QfP5v"
   },
   "outputs": [],
   "source": [
    "# ensemble of learners\n",
    "clfList=[]\n",
    "N = 10\n",
    "\n",
    "for i in range (N):\n",
    "    idx = np.random.randint(x_train.shape[0], size=x_train.shape[0])\n",
    "    \n",
    "    x_trainQ= x_train[idx]\n",
    "    y_trainQ= y_train[idx]\n",
    "\n",
    "    clf=LinearRegression()\n",
    "    clf.fit(x_trainQ, y_trainQ)\n",
    "    \n",
    "    clfList.append(clf)"
   ]
  },
  {
   "cell_type": "code",
   "execution_count": 65,
   "metadata": {},
   "outputs": [
    {
     "data": {
      "text/plain": [
       "3.300122633132602"
      ]
     },
     "execution_count": 65,
     "metadata": {},
     "output_type": "execute_result"
    }
   ],
   "source": [
    "# predict value\n",
    "\n",
    "ensemble_size = N\n",
    "\n",
    "results = [clfList[j].predict(x_test) for j in range(ensemble_size)]\n",
    "predict = []\n",
    "error = 0\n",
    "\n",
    "for i in range(len(x_test)):\n",
    "    pred = (np.mean([results[j][i] for j in range(len(results))]))\n",
    "    predict.append(pred)\n",
    "    error += np.abs(pred - y_test[i])\n",
    "\n",
    "mean_abs_error = error / len(x_test)\n",
    "mean_abs_error\n",
    "\n"
   ]
  },
  {
   "cell_type": "code",
   "execution_count": 66,
   "metadata": {
    "scrolled": true
   },
   "outputs": [
    {
     "data": {
      "text/plain": [
       "3.300122633132602"
      ]
     },
     "execution_count": 66,
     "metadata": {},
     "output_type": "execute_result"
    }
   ],
   "source": [
    "sklearn.metrics.mean_absolute_error(predict, y_test)"
   ]
  },
  {
   "cell_type": "markdown",
   "metadata": {
    "colab_type": "text",
    "id": "H9Gslv1tcwmV"
   },
   "source": [
    "# TASK 2\n",
    "## Ada Boost Algorithm"
   ]
  },
  {
   "attachments": {
    "image.png": {
     "image/png": "[encoded data removed]"
    }
   },
   "cell_type": "markdown",
   "metadata": {
    "colab": {
     "base_uri": "https://localhost:8080/",
     "height": 51
    },
    "colab_type": "code",
    "id": "DAO32DlEgOn8",
    "outputId": "c66a4718-ada1-4309-e22f-959370c056eb"
   },
   "source": [
    "![image.png](attachment:image.png)"
   ]
  },
  {
   "cell_type": "markdown",
   "metadata": {
    "colab_type": "text",
    "id": "ZMTG99-Jdo-T"
   },
   "source": [
    "* N: the number of examples, 500\n",
    "* F: number of feature: 15\n",
    "* L: the number of learners, 10\n",
    "* $p_{j}^{t}= $  denotes the probability that the instance $pair (x_{t} , r_{t})$ is drawn to train the j-th base-learner.\n",
    "* Initial condition $p_{1}^{t}=$  1/N"
   ]
  },
  {
   "cell_type": "code",
   "execution_count": 132,
   "metadata": {},
   "outputs": [],
   "source": [
    "# create a dataset\n",
    "import numpy as np\n",
    "from sklearn.datasets import make_classification\n",
    "N= 500 #500 points\n",
    "F= 50  #50 features\n",
    "L= 10  #10 learners\n",
    "X,y= make_classification(N,  n_features=F, flip_y=0.80)\n",
    "\n",
    "prob=np.repeat(1/N,N)\n",
    "\n",
    "idx=np.random.choice(N,N, p=prob)\n",
    "idx=list(set(idx))\n"
   ]
  },
  {
   "cell_type": "code",
   "execution_count": 133,
   "metadata": {},
   "outputs": [
    {
     "name": "stdout",
     "output_type": "stream",
     "text": [
      "323 500\n"
     ]
    },
    {
     "data": {
      "text/plain": [
       "0.646"
      ]
     },
     "execution_count": 133,
     "metadata": {},
     "output_type": "execute_result"
    }
   ],
   "source": [
    "import sklearn\n",
    "from sklearn.linear_model import LogisticRegression\n",
    "\n",
    "#Example of one logistic regression\n",
    "clf=LogisticRegression(solver='lbfgs')\n",
    "clf.fit(X,y)\n",
    "result = clf.predict(X)\n",
    "correct = result == y\n",
    "print(sum(correct),len(y))\n",
    "sum(clf.predict(X) == y)/len(y)"
   ]
  },
  {
   "cell_type": "code",
   "execution_count": 134,
   "metadata": {
    "colab": {},
    "colab_type": "code",
    "id": "UdaVWATzd4xR"
   },
   "outputs": [
    {
     "data": {
      "text/plain": [
       "(0.354, 0.5479876160990712)"
      ]
     },
     "execution_count": 134,
     "metadata": {},
     "output_type": "execute_result"
    }
   ],
   "source": [
    "E=(N-sum(correct)) / N\n",
    "B= E/(1-E)\n",
    "E,B"
   ]
  },
  {
   "cell_type": "code",
   "execution_count": 148,
   "metadata": {},
   "outputs": [
    {
     "name": "stdout",
     "output_type": "stream",
     "text": [
      "305\n",
      "320\n",
      "325\n",
      "328\n",
      "321\n",
      "318\n",
      "318\n",
      "321\n",
      "319\n",
      "320\n"
     ]
    }
   ],
   "source": [
    "prob = np.repeat(1/N,N)\n",
    "for i in range(L):\n",
    "    idx = np.random.choice(N, N, p=prob)\n",
    "    idx = list(set(idx))\n",
    "\n",
    "    x_train = X[idx]\n",
    "    y_train = y[idx]\n",
    "\n",
    "    clf=LogisticRegression(solver='lbfgs')\n",
    "    clf.fit(x_train,y_train)\n",
    "    result = clf.predict(X)\n",
    "    correct = result == y\n",
    "    print(sum(correct))\n",
    "    #E = (N - sum(correct)) / N #percent accuracy\n",
    "    \n",
    "    E = 0\n",
    "    for t in range(len(X)):\n",
    "        if (correct[t] == False):\n",
    "            E += prob[t]\n",
    "    B = E / (1-E)\n",
    "    \n",
    "    for t in range(len(X)):\n",
    "        if (correct[t] == False):\n",
    "            prob[t] = B*prob[t] #boost probility\n",
    "    \n",
    "    #normalize\n",
    "    prob = prob / sum(prob)\n",
    "    "
   ]
  },
  {
   "cell_type": "code",
   "execution_count": null,
   "metadata": {},
   "outputs": [],
   "source": []
  },
  {
   "cell_type": "code",
   "execution_count": 196,
   "metadata": {
    "collapsed": true
   },
   "outputs": [
    {
     "data": {
      "text/plain": [
       "array([0.002, 0.002, 0.002, 0.002, 0.002, 0.002, 0.002, 0.002, 0.002,\n",
       "       0.002, 0.002, 0.002, 0.002, 0.002, 0.002, 0.002, 0.002, 0.002,\n",
       "       0.002, 0.002, 0.002, 0.002, 0.002, 0.002, 0.002, 0.002, 0.002,\n",
       "       0.002, 0.002, 0.002, 0.002, 0.002, 0.002, 0.002, 0.002, 0.002,\n",
       "       0.002, 0.002, 0.002, 0.002, 0.002, 0.002, 0.002, 0.002, 0.002,\n",
       "       0.002, 0.002, 0.002, 0.002, 0.002, 0.002, 0.002, 0.002, 0.002,\n",
       "       0.002, 0.002, 0.002, 0.002, 0.002, 0.002, 0.002, 0.002, 0.002,\n",
       "       0.002, 0.002, 0.002, 0.002, 0.002, 0.002, 0.002, 0.002, 0.002,\n",
       "       0.002, 0.002, 0.002, 0.002, 0.002, 0.002, 0.002, 0.002, 0.002,\n",
       "       0.002, 0.002, 0.002, 0.002, 0.002, 0.002, 0.002, 0.002, 0.002,\n",
       "       0.002, 0.002, 0.002, 0.002, 0.002, 0.002, 0.002, 0.002, 0.002,\n",
       "       0.002, 0.002, 0.002, 0.002, 0.002, 0.002, 0.002, 0.002, 0.002,\n",
       "       0.002, 0.002, 0.002, 0.002, 0.002, 0.002, 0.002, 0.002, 0.002,\n",
       "       0.002, 0.002, 0.002, 0.002, 0.002, 0.002, 0.002, 0.002, 0.002,\n",
       "       0.002, 0.002, 0.002, 0.002, 0.002, 0.002, 0.002, 0.002, 0.002,\n",
       "       0.002, 0.002, 0.002, 0.002, 0.002, 0.002, 0.002, 0.002, 0.002,\n",
       "       0.002, 0.002, 0.002, 0.002, 0.002, 0.002, 0.002, 0.002, 0.002,\n",
       "       0.002, 0.002, 0.002, 0.002, 0.002, 0.002, 0.002, 0.002, 0.002,\n",
       "       0.002, 0.002, 0.002, 0.002, 0.002, 0.002, 0.002, 0.002, 0.002,\n",
       "       0.002, 0.002, 0.002, 0.002, 0.002, 0.002, 0.002, 0.002, 0.002,\n",
       "       0.002, 0.002, 0.002, 0.002, 0.002, 0.002, 0.002, 0.002, 0.002,\n",
       "       0.002, 0.002, 0.002, 0.002, 0.002, 0.002, 0.002, 0.002, 0.002,\n",
       "       0.002, 0.002, 0.002, 0.002, 0.002, 0.002, 0.002, 0.002, 0.002,\n",
       "       0.002, 0.002, 0.002, 0.002, 0.002, 0.002, 0.002, 0.002, 0.002,\n",
       "       0.002, 0.002, 0.002, 0.002, 0.002, 0.002, 0.002, 0.002, 0.002,\n",
       "       0.002, 0.002, 0.002, 0.002, 0.002, 0.002, 0.002, 0.002, 0.002,\n",
       "       0.002, 0.002, 0.002, 0.002, 0.002, 0.002, 0.002, 0.002, 0.002,\n",
       "       0.002, 0.002, 0.002, 0.002, 0.002, 0.002, 0.002, 0.002, 0.002,\n",
       "       0.002, 0.002, 0.002, 0.002, 0.002, 0.002, 0.002, 0.002, 0.002,\n",
       "       0.002, 0.002, 0.002, 0.002, 0.002, 0.002, 0.002, 0.002, 0.002,\n",
       "       0.002, 0.002, 0.002, 0.002, 0.002, 0.002, 0.002, 0.002, 0.002,\n",
       "       0.002, 0.002, 0.002, 0.002, 0.002, 0.002, 0.002, 0.002, 0.002,\n",
       "       0.002, 0.002, 0.002, 0.002, 0.002, 0.002, 0.002, 0.002, 0.002,\n",
       "       0.002, 0.002, 0.002, 0.002, 0.002, 0.002, 0.002, 0.002, 0.002,\n",
       "       0.002, 0.002, 0.002, 0.002, 0.002, 0.002, 0.002, 0.002, 0.002,\n",
       "       0.002, 0.002, 0.002, 0.002, 0.002, 0.002, 0.002, 0.002, 0.002,\n",
       "       0.002, 0.002, 0.002, 0.002, 0.002, 0.002, 0.002, 0.002, 0.002,\n",
       "       0.002, 0.002, 0.002, 0.002, 0.002, 0.002, 0.002, 0.002, 0.002,\n",
       "       0.002, 0.002, 0.002, 0.002, 0.002, 0.002, 0.002, 0.002, 0.002,\n",
       "       0.002, 0.002, 0.002, 0.002, 0.002, 0.002, 0.002, 0.002, 0.002,\n",
       "       0.002, 0.002, 0.002, 0.002, 0.002, 0.002, 0.002, 0.002, 0.002,\n",
       "       0.002, 0.002, 0.002, 0.002, 0.002, 0.002, 0.002, 0.002, 0.002,\n",
       "       0.002, 0.002, 0.002, 0.002, 0.002, 0.002, 0.002, 0.002, 0.002,\n",
       "       0.002, 0.002, 0.002, 0.002, 0.002, 0.002, 0.002, 0.002, 0.002,\n",
       "       0.002, 0.002, 0.002, 0.002, 0.002, 0.002, 0.002, 0.002, 0.002,\n",
       "       0.002, 0.002, 0.002, 0.002, 0.002, 0.002, 0.002, 0.002, 0.002,\n",
       "       0.002, 0.002, 0.002, 0.002, 0.002, 0.002, 0.002, 0.002, 0.002,\n",
       "       0.002, 0.002, 0.002, 0.002, 0.002, 0.002, 0.002, 0.002, 0.002,\n",
       "       0.002, 0.002, 0.002, 0.002, 0.002, 0.002, 0.002, 0.002, 0.002,\n",
       "       0.002, 0.002, 0.002, 0.002, 0.002, 0.002, 0.002, 0.002, 0.002,\n",
       "       0.002, 0.002, 0.002, 0.002, 0.002, 0.002, 0.002, 0.002, 0.002,\n",
       "       0.002, 0.002, 0.002, 0.002, 0.002, 0.002, 0.002, 0.002, 0.002,\n",
       "       0.002, 0.002, 0.002, 0.002, 0.002, 0.002, 0.002, 0.002, 0.002,\n",
       "       0.002, 0.002, 0.002, 0.002, 0.002, 0.002, 0.002, 0.002, 0.002,\n",
       "       0.002, 0.002, 0.002, 0.002, 0.002, 0.002, 0.002, 0.002, 0.002,\n",
       "       0.002, 0.002, 0.002, 0.002, 0.002])"
      ]
     },
     "execution_count": 196,
     "metadata": {},
     "output_type": "execute_result"
    }
   ],
   "source": [
    "prob=np.repeat(1/N,N)\n",
    "prob"
   ]
  },
  {
   "cell_type": "code",
   "execution_count": 226,
   "metadata": {},
   "outputs": [],
   "source": [
    "#training\n",
    "prob=np.repeat(1/N,N)\n",
    "\n",
    "B = []\n",
    "base_learners = []\n",
    "\n",
    "for j in range (L):\n",
    "    idx=np.random.choice(N,N, p=prob)\n",
    "    idx=list(set(idx))\n",
    "    \n",
    "    Xj=X[idx]\n",
    "    yj=y[idx]\n",
    "\n",
    "    clf=LogisticRegression(solver='lbfgs')\n",
    "    clf.fit(Xj,yj)\n",
    "    \n",
    "    result = clf.predict(X)\n",
    "    correct = result == y\n",
    "    \n",
    "    E = 0\n",
    "    \n",
    "    for t in range(len(correct)):\n",
    "        if (correct[t] == False):\n",
    "            E += prob[t] \n",
    "    \n",
    "    base_learners.append(clf)\n",
    "    B.append(E/(1-E))\n",
    "    \n",
    "    if E < 0.5:\n",
    "        break\n",
    "        \n",
    "    for i in range (len(result)):\n",
    "        if result[i]==y[i]:\n",
    "            prob[i] = B*prob[i]\n",
    "            \n",
    "    #normalize probabilies\n",
    "    z = sum(prob)\n",
    "    prob = prob / z\n",
    "    "
   ]
  },
  {
   "cell_type": "code",
   "execution_count": 228,
   "metadata": {},
   "outputs": [
    {
     "data": {
      "text/plain": [
       "[array([0, 0, 1, 0, 1, 0, 0, 0, 1, 0, 1, 0, 0, 0, 1, 1, 0, 0, 0, 1, 1, 1,\n",
       "        0, 1, 1, 0, 1, 0, 1, 0, 0, 1, 1, 0, 0, 1, 0, 0, 0, 1, 1, 0, 1, 0,\n",
       "        0, 0, 0, 0, 0, 0, 1, 0, 1, 1, 0, 0, 0, 1, 0, 0, 1, 0, 1, 1, 0, 1,\n",
       "        0, 1, 1, 0, 0, 0, 1, 1, 0, 0, 0, 1, 0, 1, 0, 0, 1, 1, 1, 1, 0, 1,\n",
       "        0, 1, 1, 1, 0, 1, 1, 0, 0, 0, 1, 1, 1, 0, 1, 1, 1, 0, 0, 0, 1, 1,\n",
       "        0, 0, 1, 1, 1, 0, 0, 1, 1, 0, 0, 0, 0, 0, 1, 0, 0, 1, 1, 0, 0, 0,\n",
       "        1, 1, 1, 0, 0, 0, 1, 1, 0, 1, 1, 1, 1, 1, 1, 0, 1, 0, 1, 0, 0, 1,\n",
       "        1, 0, 1, 1, 0, 1, 1, 0, 0, 0, 1, 0, 1, 1, 1, 0, 1, 0, 1, 1, 0, 0,\n",
       "        1, 1, 0, 0, 1, 0, 1, 1, 1, 0, 0, 0, 1, 1, 1, 0, 1, 0, 0, 0, 1, 0,\n",
       "        1, 0, 0, 0, 0, 1, 0, 0, 0, 0, 0, 0, 1, 1, 1, 1, 1, 1, 0, 0, 1, 1,\n",
       "        0, 0, 1, 0, 0, 0, 0, 0, 0, 1, 1, 1, 0, 1, 1, 1, 1, 0, 0, 0, 0, 1,\n",
       "        0, 0, 0, 0, 0, 0, 1, 0, 1, 1, 0, 1, 0, 0, 1, 0, 1, 0, 1, 1, 0, 1,\n",
       "        1, 0, 0, 1, 1, 0, 0, 0, 1, 0, 0, 1, 0, 1, 0, 0, 0, 1, 1, 1, 1, 0,\n",
       "        0, 1, 0, 1, 1, 1, 0, 0, 0, 1, 0, 0, 1, 0, 1, 1, 1, 0, 1, 1, 0, 0,\n",
       "        1, 0, 0, 1, 0, 0, 1, 1, 0, 1, 0, 1, 0, 0, 0, 0, 0, 0, 1, 0, 1, 1,\n",
       "        1, 0, 1, 1, 0, 1, 0, 1, 1, 0, 1, 0, 1, 0, 1, 0, 0, 0, 0, 1, 0, 1,\n",
       "        0, 0, 0, 1, 0, 1, 1, 0, 1, 1, 1, 0, 1, 1, 0, 1, 1, 0, 0, 0, 0, 0,\n",
       "        1, 0, 0, 0, 0, 0, 1, 0, 0, 1, 1, 0, 0, 0, 0, 0, 0, 1, 1, 1, 1, 0,\n",
       "        1, 0, 0, 1, 0, 0, 0, 1, 1, 0, 1, 0, 0, 1, 0, 0, 0, 0, 1, 0, 0, 1,\n",
       "        1, 1, 0, 1, 1, 1, 0, 0, 1, 1, 0, 0, 0, 0, 0, 1, 1, 1, 0, 0, 1, 1,\n",
       "        1, 0, 0, 0, 0, 1, 0, 1, 1, 0, 0, 0, 1, 1, 0, 0, 1, 0, 1, 1, 0, 1,\n",
       "        0, 1, 1, 1, 1, 0, 1, 0, 0, 0, 1, 0, 1, 1, 0, 1, 0, 0, 0, 1, 0, 1,\n",
       "        1, 1, 1, 1, 0, 0, 1, 0, 0, 1, 0, 1, 1, 1, 0, 0])]"
      ]
     },
     "execution_count": 228,
     "metadata": {},
     "output_type": "execute_result"
    }
   ],
   "source": [
    "#testing\n",
    "d = []\n",
    "for j in range(len(base_learners)):\n",
    "    d.append(base_learners[j].predict(X))\n",
    "\n",
    "d\n",
    "        "
   ]
  },
  {
   "cell_type": "code",
   "execution_count": 229,
   "metadata": {
    "colab": {
     "base_uri": "https://localhost:8080/",
     "height": 34
    },
    "colab_type": "code",
    "id": "y2O4viNcdEUD",
    "outputId": "15643821-4a19-435d-daf2-9f82858f1493"
   },
   "outputs": [
    {
     "data": {
      "text/plain": [
       "array([0, 0, 1, 0, 1, 1, 1, 1, 1, 1, 1, 0, 0, 0, 1, 0, 0, 0, 1, 0, 0, 1,\n",
       "       1, 0, 0, 0, 1, 1, 1, 1, 1, 0, 1, 0, 1, 0, 1, 0, 1, 1, 0, 0, 1, 0,\n",
       "       1, 1, 0, 0, 0, 0, 1, 1, 1, 1, 1, 0, 1, 1, 1, 1, 0, 1, 0, 1, 0, 1,\n",
       "       0, 1, 0, 0, 1, 0, 1, 1, 1, 1, 1, 1, 1, 1, 1, 1, 1, 0, 1, 1, 1, 0,\n",
       "       0, 0, 1, 1, 1, 0, 1, 0, 0, 1, 0, 1, 1, 0, 0, 1, 1, 0, 0, 0, 1, 1,\n",
       "       0, 1, 1, 0, 1, 0, 1, 1, 1, 0, 1, 1, 1, 1, 1, 1, 0, 1, 0, 0, 1, 1,\n",
       "       1, 1, 0, 0, 0, 0, 0, 0, 0, 1, 0, 0, 1, 0, 0, 0, 1, 0, 1, 0, 0, 1,\n",
       "       0, 1, 0, 1, 0, 1, 0, 1, 0, 0, 1, 0, 0, 1, 0, 0, 0, 0, 1, 1, 1, 0,\n",
       "       1, 1, 0, 1, 1, 0, 1, 1, 1, 0, 1, 0, 0, 1, 1, 0, 0, 0, 1, 1, 1, 0,\n",
       "       0, 0, 1, 0, 1, 0, 1, 1, 0, 0, 0, 0, 0, 1, 1, 0, 1, 1, 0, 1, 1, 0,\n",
       "       0, 1, 0, 1, 0, 0, 1, 1, 0, 0, 1, 1, 0, 1, 1, 1, 0, 0, 1, 0, 1, 0,\n",
       "       0, 0, 1, 1, 1, 0, 1, 0, 1, 1, 0, 1, 0, 1, 1, 0, 1, 1, 1, 0, 1, 1,\n",
       "       1, 1, 0, 1, 1, 1, 1, 0, 1, 0, 0, 0, 1, 1, 0, 0, 0, 0, 1, 0, 1, 1,\n",
       "       1, 1, 1, 1, 1, 1, 0, 0, 0, 1, 1, 0, 1, 0, 0, 1, 1, 0, 1, 1, 1, 0,\n",
       "       0, 0, 0, 0, 0, 0, 1, 1, 1, 0, 0, 0, 0, 1, 0, 0, 0, 0, 1, 0, 1, 1,\n",
       "       1, 0, 0, 1, 0, 0, 0, 1, 0, 1, 0, 0, 1, 1, 0, 0, 1, 0, 0, 0, 1, 1,\n",
       "       0, 0, 0, 0, 0, 0, 1, 0, 1, 1, 1, 0, 0, 0, 1, 1, 1, 1, 1, 0, 1, 0,\n",
       "       1, 0, 1, 1, 0, 1, 1, 0, 0, 0, 1, 0, 0, 0, 1, 0, 0, 0, 1, 0, 1, 1,\n",
       "       1, 1, 0, 1, 1, 0, 1, 1, 1, 1, 1, 1, 1, 1, 1, 1, 1, 0, 1, 0, 1, 0,\n",
       "       1, 1, 1, 1, 1, 1, 0, 1, 0, 1, 1, 0, 0, 0, 1, 0, 0, 1, 0, 0, 0, 1,\n",
       "       0, 0, 0, 0, 1, 1, 1, 0, 1, 0, 0, 0, 1, 1, 1, 0, 1, 1, 1, 0, 0, 1,\n",
       "       0, 1, 0, 1, 1, 1, 1, 1, 0, 0, 0, 0, 1, 1, 0, 1, 0, 0, 1, 1, 0, 0,\n",
       "       1, 1, 0, 0, 0, 0, 1, 1, 0, 1, 0, 0, 1, 1, 0, 0])"
      ]
     },
     "execution_count": 229,
     "metadata": {},
     "output_type": "execute_result"
    }
   ],
   "source": [
    "y"
   ]
  },
  {
   "cell_type": "code",
   "execution_count": 183,
   "metadata": {},
   "outputs": [
    {
     "data": {
      "text/plain": [
       "77"
      ]
     },
     "execution_count": 183,
     "metadata": {},
     "output_type": "execute_result"
    }
   ],
   "source": [
    "len(correct[correct == False])"
   ]
  },
  {
   "cell_type": "code",
   "execution_count": 164,
   "metadata": {},
   "outputs": [
    {
     "data": {
      "text/plain": [
       "[]"
      ]
     },
     "execution_count": 164,
     "metadata": {},
     "output_type": "execute_result"
    }
   ],
   "source": [
    "base_learners"
   ]
  },
  {
   "cell_type": "code",
   "execution_count": null,
   "metadata": {},
   "outputs": [],
   "source": []
  }
 ],
 "metadata": {
  "colab": {
   "collapsed_sections": [],
   "name": "Ensemble Learners.ipynb",
   "provenance": [],
   "version": "0.3.2"
  },
  "kernelspec": {
   "display_name": "Python 3",
   "language": "python",
   "name": "python3"
  },
  "language_info": {
   "codemirror_mode": {
    "name": "ipython",
    "version": 3
   },
   "file_extension": ".py",
   "mimetype": "text/x-python",
   "name": "python",
   "nbconvert_exporter": "python",
   "pygments_lexer": "ipython3",
   "version": "3.6.5"
  }
 },
 "nbformat": 4,
 "nbformat_minor": 1
}

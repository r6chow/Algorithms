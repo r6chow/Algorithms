{
 "cells": [
  {
   "cell_type": "code",
   "execution_count": 217,
   "metadata": {},
   "outputs": [],
   "source": [
    "N = 300\n",
    "D = 2\n",
    "K = 3\n",
    "\n",
    "import matplotlib.pyplot as plt\n",
    "import numpy as np\n",
    "import math\n",
    "\n",
    "X = np.random.rand(N,D)\n",
    "\n",
    "\n",
    "R = np.repeat(([1,0,0],[0,1,0],[0,0,1]), int(N/K), axis=0)\n",
    "\n",
    "#add some pattern\n",
    "X[0:99,] = X[0:99,]+1\n",
    "X[100:199,] = X[100:199,]+2\n"
   ]
  },
  {
   "cell_type": "code",
   "execution_count": 218,
   "metadata": {},
   "outputs": [
    {
     "data": {
      "text/plain": [
       "<matplotlib.collections.PathCollection at 0x7ff3d9726f98>"
      ]
     },
     "execution_count": 218,
     "metadata": {},
     "output_type": "execute_result"
    },
    {
     "data": {
      "image/png": "[encoded data removed]",
      "text/plain": [
       "<matplotlib.figure.Figure at 0x7ff3d97b1da0>"
      ]
     },
     "metadata": {
      "needs_background": "light"
     },
     "output_type": "display_data"
    }
   ],
   "source": [
    "plt.scatter(X[:,0],X[:,1])"
   ]
  },
  {
   "cell_type": "code",
   "execution_count": 226,
   "metadata": {},
   "outputs": [],
   "source": [
    "#x = [N, D]\n",
    "#w = [K, D+1]\n",
    "#r = [N, K]\n",
    "def err(x, r, k, w):\n",
    "    x_new = np.c_[np.ones(len(x)), x]\n",
    "    \n",
    "    err_count = 0\n",
    "    err_sum = 0\n",
    "    for t in range(len(x)):\n",
    "        o = []\n",
    "        for i in range(k):\n",
    "            o.append(np.dot(np.transpose(w[i]), x_new[t]))\n",
    "         \n",
    "        y = []\n",
    "        for i in range(k):\n",
    "            y.append(math.exp(o[i]-max(o))/sum([math.exp(ok-max(o)) for ok in o])) #signmoid\n",
    "            \n",
    "        if (np.argmax(y) != np.argmax(r[t])):\n",
    "            err_count += 1.0\n",
    "        \n",
    "        i = np.argmax(R[t])\n",
    "        \n",
    "        if (y[i] == 0):\n",
    "            y[i] = 0.0000000000000000001\n",
    "        \n",
    "        err_sum = err_sum + -1*R[t][i]*math.log(y[i]) \n",
    "        \n",
    "    return err_sum\n",
    "            \n",
    "    \n",
    "\n",
    "def log_regression(x, r, d, K, eta, max_iterations):\n",
    "    \n",
    "    \n",
    "    x_new = np.c_[np.ones(N),x] #with bias\n",
    "    \n",
    "    #For i = 1..K, For j = 0..D, wij <- rand(-0.01, 0.01)\n",
    "    w = np.random.uniform(-0.01, 0.01, size=(K,d+1))\n",
    "    \n",
    "    #### UNCOMMENT TO CHECK FOR CONVERGENCE\n",
    "#     error = 1000000000000\n",
    "    \n",
    "    #Repeat\n",
    "    for epoch in range(max_iterations):\n",
    "        \n",
    "        #print(\"epoch:\", epoch)\n",
    "        \n",
    "        #For i = 1..K, For j=0..d, delta_wij=0\n",
    "        delta_w = np.zeros(shape=(K,d+1))\n",
    "        \n",
    "        #for i = 1..N\n",
    "        for t in range(len(X)):\n",
    "            \n",
    "            #for i = 1..K (green box)\n",
    "            o = []\n",
    "            for i in range(K):\n",
    "                o.append(0)\n",
    "                for j in range(d+1):\n",
    "                    o[i] = o[i] + w[i][j]*x_new[t][j]\n",
    "            \n",
    "            y = []\n",
    "            for i in range(K):\n",
    "                y.append(math.exp(o[i]-max(o))/(sum([math.exp(ok-max(o)) for ok in o])))\n",
    "            \n",
    "            #for i = 1..K (red box)\n",
    "            for i in range(K):\n",
    "                for j in range(d+1):\n",
    "                    delta_w[i][j] = delta_w[i][j] + (r[t][i] - y[i])*x_new[t][j]\n",
    "            \n",
    "        for i in range(K):\n",
    "            for j in range(d+1):\n",
    "                w[i][j] = w[i][j] + eta*delta_w[i][j]\n",
    "        \n",
    "          #### UNCOMMENT TO CHECK FOR CONVERGENCE\n",
    "#         error_new = err(X, R, K, w)\n",
    "        \n",
    "#         print(\"error_old:\", error)\n",
    "#         print(\"error_new:\", error_new)\n",
    "        \n",
    "#         if (abs(error_new-error) < 0.001):\n",
    "#             print(\"converged: erorr\", np.round(error_new, 2))\n",
    "#             return(w)\n",
    "#         else:\n",
    "#             error = error_new\n",
    "    \n",
    "#     print(\"not converged.  error:\", np.round(error_new, 2))  \n",
    "  \n",
    "    return (w)\n",
    "\n",
    "        "
   ]
  },
  {
   "cell_type": "code",
   "execution_count": 233,
   "metadata": {
    "scrolled": true
   },
   "outputs": [
    {
     "data": {
      "text/plain": [
       "array([[ 210.12457579, -106.78954526,   32.47434438],\n",
       "       [-568.78542929,  269.58513093,   46.06966144],\n",
       "       [ 358.67033834, -162.77578261,  -78.54740125]])"
      ]
     },
     "execution_count": 233,
     "metadata": {},
     "output_type": "execute_result"
    }
   ],
   "source": [
    "w = log_regression(X, R, D, K, 0.6, 1000)\n",
    "w"
   ]
  },
  {
   "cell_type": "code",
   "execution_count": 234,
   "metadata": {},
   "outputs": [
    {
     "name": "stdout",
     "output_type": "stream",
     "text": [
      "0.013333333333333334\n"
     ]
    }
   ],
   "source": [
    "x_new = np.c_[np.ones(N), X]\n",
    "\n",
    "#count number incorrect\n",
    "error_count = 0.0\n",
    "\n",
    "for t in range(N):\n",
    "    o = []\n",
    "    for i in range(K):\n",
    "        o.append(np.dot(np.transpose(w[i]), x_new[t]))\n",
    "    \n",
    "    y = []\n",
    "    for i in range(K):\n",
    "        y.append(math.exp(o[i]-max(o))/sum([math.exp(ok - max(o)) for ok in o]))\n",
    "        \n",
    "    if (np.argmax(y) != np.argmax(R[t])):\n",
    "        error_count += 1\n",
    "\n",
    "print(error_count / N)\n",
    "        "
   ]
  },
  {
   "cell_type": "code",
   "execution_count": 235,
   "metadata": {},
   "outputs": [
    {
     "data": {
      "text/plain": [
       "670.2306499769229"
      ]
     },
     "execution_count": 235,
     "metadata": {},
     "output_type": "execute_result"
    }
   ],
   "source": [
    "err(X,R,K,w)"
   ]
  },
  {
   "cell_type": "code",
   "execution_count": null,
   "metadata": {},
   "outputs": [],
   "source": []
  }
 ],
 "metadata": {
  "kernelspec": {
   "display_name": "Python 3",
   "language": "python",
   "name": "python3"
  },
  "language_info": {
   "codemirror_mode": {
    "name": "ipython",
    "version": 3
   },
   "file_extension": ".py",
   "mimetype": "text/x-python",
   "name": "python",
   "nbconvert_exporter": "python",
   "pygments_lexer": "ipython3",
   "version": "3.6.7"
  }
 },
 "nbformat": 4,
 "nbformat_minor": 2
}

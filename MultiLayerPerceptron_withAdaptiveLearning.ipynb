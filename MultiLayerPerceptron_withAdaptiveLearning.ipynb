{
 "cells": [
  {
   "cell_type": "code",
   "execution_count": 1,
   "metadata": {
    "colab": {},
    "colab_type": "code",
    "id": "QDljp34_gA3_"
   },
   "outputs": [],
   "source": [
    "# Define hyper-parameters and other size\n",
    "N=30 # number of samples\n",
    "K=3  # the number of classes\n",
    "D=4  # size of dimension OR number of independent variables\n",
    "H=10 # size of hidden layer\n"
   ]
  },
  {
   "cell_type": "code",
   "execution_count": 2,
   "metadata": {
    "colab": {},
    "colab_type": "code",
    "id": "EBlFOHXhjKrJ"
   },
   "outputs": [],
   "source": [
    "import sys\n",
    "import numpy as np\n",
    "np.random.seed(42)\n",
    "# X is input samples\n",
    "X=np.round(np.random.rand(N,D),2)\n",
    "# R is the output\n",
    "R=np.repeat([[1,0,0], [0,1,0], [0,0,1]],10, axis=0)"
   ]
  },
  {
   "cell_type": "code",
   "execution_count": 3,
   "metadata": {
    "colab": {
     "base_uri": "https://localhost:8080/",
     "height": 527
    },
    "colab_type": "code",
    "executionInfo": {
     "elapsed": 293,
     "status": "ok",
     "timestamp": 1548088260703,
     "user": {
      "displayName": "savas yildirim",
      "photoUrl": "",
      "userId": "12193433139206622858"
     },
     "user_tz": 300
    },
    "id": "kSEJ90iEgb0Q",
    "outputId": "a281ca86-3a51-4e1d-8687-0386dc71379b",
    "scrolled": true
   },
   "outputs": [
    {
     "data": {
      "text/plain": [
       "array([[0.37, 0.95, 0.73, 0.6 , 1.  , 0.  , 0.  ],\n",
       "       [0.16, 0.16, 0.06, 0.87, 1.  , 0.  , 0.  ],\n",
       "       [0.6 , 0.71, 0.02, 0.97, 1.  , 0.  , 0.  ],\n",
       "       [0.83, 0.21, 0.18, 0.18, 1.  , 0.  , 0.  ],\n",
       "       [0.3 , 0.52, 0.43, 0.29, 1.  , 0.  , 0.  ],\n",
       "       [0.61, 0.14, 0.29, 0.37, 1.  , 0.  , 0.  ],\n",
       "       [0.46, 0.79, 0.2 , 0.51, 1.  , 0.  , 0.  ],\n",
       "       [0.59, 0.05, 0.61, 0.17, 1.  , 0.  , 0.  ],\n",
       "       [0.07, 0.95, 0.97, 0.81, 1.  , 0.  , 0.  ],\n",
       "       [0.3 , 0.1 , 0.68, 0.44, 1.  , 0.  , 0.  ],\n",
       "       [0.12, 0.5 , 0.03, 0.91, 0.  , 1.  , 0.  ],\n",
       "       [0.26, 0.66, 0.31, 0.52, 0.  , 1.  , 0.  ],\n",
       "       [0.55, 0.18, 0.97, 0.78, 0.  , 1.  , 0.  ],\n",
       "       [0.94, 0.89, 0.6 , 0.92, 0.  , 1.  , 0.  ],\n",
       "       [0.09, 0.2 , 0.05, 0.33, 0.  , 1.  , 0.  ],\n",
       "       [0.39, 0.27, 0.83, 0.36, 0.  , 1.  , 0.  ],\n",
       "       [0.28, 0.54, 0.14, 0.8 , 0.  , 1.  , 0.  ],\n",
       "       [0.07, 0.99, 0.77, 0.2 , 0.  , 1.  , 0.  ],\n",
       "       [0.01, 0.82, 0.71, 0.73, 0.  , 1.  , 0.  ],\n",
       "       [0.77, 0.07, 0.36, 0.12, 0.  , 1.  , 0.  ],\n",
       "       [0.86, 0.62, 0.33, 0.06, 0.  , 0.  , 1.  ],\n",
       "       [0.31, 0.33, 0.73, 0.64, 0.  , 0.  , 1.  ],\n",
       "       [0.89, 0.47, 0.12, 0.71, 0.  , 0.  , 1.  ],\n",
       "       [0.76, 0.56, 0.77, 0.49, 0.  , 0.  , 1.  ],\n",
       "       [0.52, 0.43, 0.03, 0.11, 0.  , 0.  , 1.  ],\n",
       "       [0.03, 0.64, 0.31, 0.51, 0.  , 0.  , 1.  ],\n",
       "       [0.91, 0.25, 0.41, 0.76, 0.  , 0.  , 1.  ],\n",
       "       [0.23, 0.08, 0.29, 0.16, 0.  , 0.  , 1.  ],\n",
       "       [0.93, 0.81, 0.63, 0.87, 0.  , 0.  , 1.  ],\n",
       "       [0.8 , 0.19, 0.89, 0.54, 0.  , 0.  , 1.  ]])"
      ]
     },
     "execution_count": 3,
     "metadata": {},
     "output_type": "execute_result"
    }
   ],
   "source": [
    "np.c_[X,R]"
   ]
  },
  {
   "cell_type": "code",
   "execution_count": 4,
   "metadata": {
    "colab": {
     "base_uri": "https://localhost:8080/",
     "height": 527
    },
    "colab_type": "code",
    "executionInfo": {
     "elapsed": 355,
     "status": "ok",
     "timestamp": 1548088262306,
     "user": {
      "displayName": "savas yildirim",
      "photoUrl": "",
      "userId": "12193433139206622858"
     },
     "user_tz": 300
    },
    "id": "ZwS0qmLHMTFw",
    "outputId": "5ece1cfb-264a-48dc-ada3-52bbdd1de53d"
   },
   "outputs": [
    {
     "data": {
      "text/plain": [
       "array([[0.74, 1.9 , 1.46, 1.2 ],\n",
       "       [0.32, 0.32, 0.12, 1.74],\n",
       "       [1.2 , 1.42, 0.04, 1.94],\n",
       "       [1.66, 0.42, 0.36, 0.36],\n",
       "       [0.6 , 1.04, 0.86, 0.58],\n",
       "       [1.22, 0.28, 0.58, 0.74],\n",
       "       [0.92, 1.58, 0.4 , 1.02],\n",
       "       [1.18, 0.1 , 1.22, 0.34],\n",
       "       [0.14, 1.9 , 1.94, 1.62],\n",
       "       [0.6 , 0.2 , 1.36, 0.88],\n",
       "       [0.6 , 2.5 , 0.15, 4.55],\n",
       "       [1.3 , 3.3 , 1.55, 2.6 ],\n",
       "       [2.75, 0.9 , 4.85, 3.9 ],\n",
       "       [4.7 , 4.45, 3.  , 4.6 ],\n",
       "       [0.45, 1.  , 0.25, 1.65],\n",
       "       [1.95, 1.35, 4.15, 1.8 ],\n",
       "       [1.4 , 2.7 , 0.7 , 4.  ],\n",
       "       [0.35, 4.95, 3.85, 1.  ],\n",
       "       [0.05, 4.1 , 3.55, 3.65],\n",
       "       [3.85, 0.35, 1.8 , 0.6 ],\n",
       "       [0.86, 0.62, 0.33, 0.06],\n",
       "       [0.31, 0.33, 0.73, 0.64],\n",
       "       [0.89, 0.47, 0.12, 0.71],\n",
       "       [0.76, 0.56, 0.77, 0.49],\n",
       "       [0.52, 0.43, 0.03, 0.11],\n",
       "       [0.03, 0.64, 0.31, 0.51],\n",
       "       [0.91, 0.25, 0.41, 0.76],\n",
       "       [0.23, 0.08, 0.29, 0.16],\n",
       "       [0.93, 0.81, 0.63, 0.87],\n",
       "       [0.8 , 0.19, 0.89, 0.54]])"
      ]
     },
     "execution_count": 4,
     "metadata": {},
     "output_type": "execute_result"
    }
   ],
   "source": [
    "# Adding some pattern into X\n",
    "X[:10,:]=X[:10,:]*2\n",
    "X[10:20,:]=X[10:20,:]*5\n",
    "X"
   ]
  },
  {
   "cell_type": "code",
   "execution_count": 5,
   "metadata": {
    "colab": {},
    "colab_type": "code",
    "id": "PUsQjyw5hWFG"
   },
   "outputs": [],
   "source": [
    "#Initialize all v ih and w hj to rand(−0.01, 0.01)\n",
    "\n",
    "v=np.random.uniform(-0.01,0.01,(K,H+1))\n",
    "w=np.random.uniform(-0.01,0.01,(H,D+1))"
   ]
  },
  {
   "cell_type": "code",
   "execution_count": 6,
   "metadata": {
    "colab": {
     "base_uri": "https://localhost:8080/",
     "height": 187
    },
    "colab_type": "code",
    "executionInfo": {
     "elapsed": 256,
     "status": "ok",
     "timestamp": 1548088265500,
     "user": {
      "displayName": "savas yildirim",
      "photoUrl": "",
      "userId": "12193433139206622858"
     },
     "user_tz": 300
    },
    "id": "NwBXkm6NieJk",
    "outputId": "f4cd274f-4f7d-4a93-cd8b-5e1cea79a239"
   },
   "outputs": [
    {
     "data": {
      "text/plain": [
       "array([[-0.   ,  0.01 , -0.005,  0.003,  0.005],\n",
       "       [-0.005,  0.005, -0.003,  0.003,  0.003],\n",
       "       [ 0.001, -0.008,  0.007, -0.004, -0.006],\n",
       "       [-0.009,  0.002,  0.004, -0.01 ,  0.   ],\n",
       "       [-0.005,  0.003, -0.007,  0.004, -0.002],\n",
       "       [ 0.009, -0.007, -0.003, -0.008,  0.008],\n",
       "       [ 0.008, -0.005,  0.003,  0.006,  0.001],\n",
       "       [ 0.001, -0.005, -0.008,  0.008,  0.008],\n",
       "       [ 0.003, -0.003, -0.003,  0.005,  0.008],\n",
       "       [ 0.008,  0.006,  0.003, -0.008, -0.007]])"
      ]
     },
     "execution_count": 6,
     "metadata": {},
     "output_type": "execute_result"
    }
   ],
   "source": [
    "np.round(w,3)"
   ]
  },
  {
   "cell_type": "code",
   "execution_count": 7,
   "metadata": {
    "colab": {
     "base_uri": "https://localhost:8080/",
     "height": 527
    },
    "colab_type": "code",
    "executionInfo": {
     "elapsed": 299,
     "status": "ok",
     "timestamp": 1548088266830,
     "user": {
      "displayName": "savas yildirim",
      "photoUrl": "",
      "userId": "12193433139206622858"
     },
     "user_tz": 300
    },
    "id": "5-N7gXT4PzOB",
    "outputId": "827a347d-5929-4088-de57-0e6e4a1a4950"
   },
   "outputs": [
    {
     "data": {
      "text/plain": [
       "array([[1.  , 0.74, 1.9 , 1.46, 1.2 ],\n",
       "       [1.  , 0.32, 0.32, 0.12, 1.74],\n",
       "       [1.  , 1.2 , 1.42, 0.04, 1.94],\n",
       "       [1.  , 1.66, 0.42, 0.36, 0.36],\n",
       "       [1.  , 0.6 , 1.04, 0.86, 0.58],\n",
       "       [1.  , 1.22, 0.28, 0.58, 0.74],\n",
       "       [1.  , 0.92, 1.58, 0.4 , 1.02],\n",
       "       [1.  , 1.18, 0.1 , 1.22, 0.34],\n",
       "       [1.  , 0.14, 1.9 , 1.94, 1.62],\n",
       "       [1.  , 0.6 , 0.2 , 1.36, 0.88],\n",
       "       [1.  , 0.6 , 2.5 , 0.15, 4.55],\n",
       "       [1.  , 1.3 , 3.3 , 1.55, 2.6 ],\n",
       "       [1.  , 2.75, 0.9 , 4.85, 3.9 ],\n",
       "       [1.  , 4.7 , 4.45, 3.  , 4.6 ],\n",
       "       [1.  , 0.45, 1.  , 0.25, 1.65],\n",
       "       [1.  , 1.95, 1.35, 4.15, 1.8 ],\n",
       "       [1.  , 1.4 , 2.7 , 0.7 , 4.  ],\n",
       "       [1.  , 0.35, 4.95, 3.85, 1.  ],\n",
       "       [1.  , 0.05, 4.1 , 3.55, 3.65],\n",
       "       [1.  , 3.85, 0.35, 1.8 , 0.6 ],\n",
       "       [1.  , 0.86, 0.62, 0.33, 0.06],\n",
       "       [1.  , 0.31, 0.33, 0.73, 0.64],\n",
       "       [1.  , 0.89, 0.47, 0.12, 0.71],\n",
       "       [1.  , 0.76, 0.56, 0.77, 0.49],\n",
       "       [1.  , 0.52, 0.43, 0.03, 0.11],\n",
       "       [1.  , 0.03, 0.64, 0.31, 0.51],\n",
       "       [1.  , 0.91, 0.25, 0.41, 0.76],\n",
       "       [1.  , 0.23, 0.08, 0.29, 0.16],\n",
       "       [1.  , 0.93, 0.81, 0.63, 0.87],\n",
       "       [1.  , 0.8 , 0.19, 0.89, 0.54]])"
      ]
     },
     "execution_count": 7,
     "metadata": {},
     "output_type": "execute_result"
    }
   ],
   "source": [
    "#Adding Ones to the X as first bias input\n",
    "X=np.c_[np.ones(30), X]\n",
    "X"
   ]
  },
  {
   "cell_type": "code",
   "execution_count": 8,
   "metadata": {},
   "outputs": [],
   "source": [
    "import math\n",
    "\n",
    "\n",
    "def get_accuracy(x, r, H, K, D, v, w):\n",
    "    \n",
    "    error_score = 0\n",
    "    for t in range(len(x)):\n",
    "            \n",
    "        #feed forward of hidden units\n",
    "        z = []\n",
    "        z.append(1)\n",
    "\n",
    "        for h in range(1,H):\n",
    "            z.append(0)\n",
    "            for j in range(D):\n",
    "                z[h] = z[h] + w[h,j]*x[t,j]\n",
    "\n",
    "        z_bounded = []\n",
    "        z_bounded.append(1)\n",
    "\n",
    "        for index in range(1,len(z)):\n",
    "            if z[index] >=0:\n",
    "                z_bounded.append(1/(1+math.exp(-z[index] )))\n",
    "            else:\n",
    "                z_bounded.append(math.exp(z[index])/(1+math.exp(z[index])))\n",
    "\n",
    "        o = []\n",
    "        y = []\n",
    "        for i in range(K):\n",
    "            o.append(0)\n",
    "            for h in range(H):\n",
    "                o[i] = o[i] + v[i,h]*z_bounded[h]\n",
    "\n",
    "        #feed forward of outputs units\n",
    "        max_o = max(o)\n",
    "        o2 = [math.exp(x-max_o) for x in o]\n",
    "        denom = sum(o2)\n",
    "\n",
    "        for i in range(K):\n",
    "            y.append(o2[i]/denom)\n",
    "\n",
    "        if r[t].argmax() == y.index(max(y)):\n",
    "            error_score = error_score + 1.0\n",
    "    \n",
    "    return (error_score/len(x))\n",
    "\n",
    "\n",
    "            \n",
    "            \n",
    "            \n",
    "            \n",
    "# See Fig 11.11 for the pseudocode\n",
    "def back_prop(x,r,H,K,D,step_size,accuracy_stop,iterations, Alpha, A, B):\n",
    "\n",
    "    np.random.seed(42)\n",
    "    \n",
    "    v_weights = np.zeros(shape=(K,H))\n",
    "    w_weights = np.zeros(shape=(H,D))\n",
    "    w_weights_prev = np.zeros(shape=(H,D))\n",
    "    alpha = Alpha  #momentume\n",
    "    a = A  #adaptive\n",
    "    b = B  #adaptive\n",
    "        \n",
    "    delta = sys.float_info.max\n",
    "    \n",
    "    for i in range(K):\n",
    "        for h in range(H):\n",
    "            v_weights[i,h] = np.random.uniform(-0.01, 0.01)\n",
    "    \n",
    "    for h in range(1,H):\n",
    "        for j in range(D):\n",
    "            w_weights[h,j] = np.random.uniform(-0.01, 0.01)\n",
    "        \n",
    "    error_prev = 0 #0% correct\n",
    "        \n",
    "    for run in range(iterations):\n",
    "        error_score = 0\n",
    "        \n",
    "        delta_v = np.zeros(shape=(K,H))\n",
    "        delta_w = np.zeros(shape=(H,D))\n",
    "        delta_w_past = np.zeros(shape=(H,D))\n",
    "        \n",
    "        \n",
    "        for t in range(len(x)):\n",
    "            \n",
    "            #feed forward of hidden units\n",
    "            z = []\n",
    "            z.append(1)\n",
    "            \n",
    "            for h in range(1,H):\n",
    "                z.append(0)\n",
    "                for j in range(D):\n",
    "                    z[h] = z[h] + w_weights[h,j]*x[t,j]\n",
    "            \n",
    "            z_bounded = []\n",
    "            z_bounded.append(1)\n",
    "            \n",
    "            for index in range(1,len(z)):\n",
    "                if z[index] >=0:\n",
    "                    z_bounded.append(1/(1+math.exp(-z[index] )))\n",
    "                else:\n",
    "                    z_bounded.append(math.exp(z[index])/(1+math.exp(z[index])))\n",
    "\n",
    "            o = []\n",
    "            y = []\n",
    "            for i in range(K):\n",
    "                o.append(0)\n",
    "                for h in range(H):\n",
    "                    o[i] = o[i] + v_weights[i,h]*z_bounded[h]\n",
    "            \n",
    "            #feed forward of outputs units\n",
    "            max_o = max(o)\n",
    "            o2 = [math.exp(x-max_o) for x in o]\n",
    "            denom = sum(o2)\n",
    "            \n",
    "            for i in range(K):\n",
    "                y.append(o2[i]/denom)\n",
    "                \n",
    "            if r[t].argmax() == y.index(max(y)):\n",
    "                error_score = error_score + 1  \n",
    "        \n",
    "            for i in range(K):\n",
    "                for h in range(H):                   \n",
    "                    delta_v[i,h] = step_size*(r[t,i]-y[i])*z_bounded[h]\n",
    "            \n",
    "            for h in range(1,H):\n",
    "                diff = 0\n",
    "                for i in range(K):\n",
    "                    diff = diff + (r[t,i]-y[i])*v_weights[i,h]\n",
    "                for j in range(D):\n",
    "                    delta_w[h,j] = step_size*diff*z_bounded[h]*(1-z_bounded[h])*x[t,j] + delta_w_past[h,j]*alpha\n",
    "                    delta_w_past[h,j] = delta_w[h,j] \n",
    "                    \n",
    "            for i in range(K):\n",
    "                for h in range(H):\n",
    "                    v_weights[i,h] = v_weights[i,h] + delta_v[i,h]\n",
    "                \n",
    "            for h in range(1,H):\n",
    "                for j in range(D):\n",
    "                    w_weights[h,j] = w_weights[h,j] + delta_w[h,j]\n",
    "        \n",
    "        \n",
    "        \n",
    "        \n",
    "        score = get_accuracy(x, r,H,K,D, v_weights, w_weights)\n",
    "        \n",
    "        #Adaptive learning\n",
    "        error_new = score\n",
    "        \n",
    "        if (error_new >= error_prev):\n",
    "            delta_step_size = a\n",
    "        else:\n",
    "            delta_step_size =  -1.0*step_size*b\n",
    "\n",
    "        #print(\"epoc:\" + str(run) + \" prev_accuracy:\" + str(np.round(error_prev*100,5)) + \" accuracy:\" + str(np.round(error_new*100,5)))\n",
    "        \n",
    "        error_prev =  error_new \n",
    "        step_size = step_size + delta_step_size  \n",
    "\n",
    "        #print(\"delta_step_size:\" + str(np.round(delta_step_size,5))  + \" new_step_size:\" + str(np.round(step_size,5)))\n",
    "       \n",
    "        if (score >= accuracy_stop):\n",
    "            print(\"Converged - Overall Training Accuracy: \" + str(score*100))\n",
    "            print(\"Total Iterations:\" + str(run))\n",
    "            return (v_weights,w_weights)\n",
    "\n",
    "        \n",
    "    # max iteration reached\n",
    "    print(\"No Convergence - Training Accuracy: \" + str(score*100))\n",
    "    return (v_weights,w_weights)"
   ]
  },
  {
   "cell_type": "code",
   "execution_count": 9,
   "metadata": {},
   "outputs": [
    {
     "name": "stdout",
     "output_type": "stream",
     "text": [
      "Converged - Overall Training Accuracy: 53.333333333333336\n",
      "Total Iterations:4\n"
     ]
    },
    {
     "data": {
      "text/plain": [
       "(array([[-1.65558541,  0.25229155,  0.25962139,  0.27091144,  0.25274038,\n",
       "          0.26517332,  0.22496464,  0.27417369,  0.26601028,  0.26025148],\n",
       "        [ 1.16276529, -0.80919903, -0.82635145, -0.85584825, -0.8388272 ,\n",
       "         -0.85341166, -0.8019358 , -0.84733481, -0.84007985, -0.83859564],\n",
       "        [ 0.48295967,  0.56810984,  0.57386168,  0.57848401,  0.5719651 ,\n",
       "          0.58072984,  0.55821115,  0.58126446,  0.57657906,  0.5692592 ]]),\n",
       " array([[ 0.        ,  0.        ,  0.        ,  0.        ],\n",
       "        [-0.11833467, -0.16301565, -0.9099968 , -0.30001257],\n",
       "        [-0.10386869, -0.14571492, -0.91874338, -0.31486824],\n",
       "        [-0.08511665, -0.14996919, -0.93026645, -0.31716495],\n",
       "        [-0.11074312, -0.14401126, -0.91765646, -0.31246459],\n",
       "        [-0.09300248, -0.14463732, -0.92364179, -0.31735767],\n",
       "        [-0.1307411 , -0.15446456, -0.90009033, -0.29745952],\n",
       "        [-0.09091929, -0.14133055, -0.9296786 , -0.32188152],\n",
       "        [-0.10382942, -0.15048351, -0.91898193, -0.31338801],\n",
       "        [-0.09830911, -0.15521667, -0.92179329, -0.31121987]]))"
      ]
     },
     "execution_count": 9,
     "metadata": {},
     "output_type": "execute_result"
    }
   ],
   "source": [
    "#convergence is based on overall training accuracy hitting 'wanted' accuracy (in this case 50%)\n",
    "result = back_prop(X,R,H,K,D,0.5,0.5,5,0,0,0)\n",
    "result\n"
   ]
  },
  {
   "cell_type": "code",
   "execution_count": 10,
   "metadata": {},
   "outputs": [
    {
     "name": "stdout",
     "output_type": "stream",
     "text": [
      "0.5333333333333333\n"
     ]
    }
   ],
   "source": [
    "print (get_accuracy(X, R,H,K,D, result[0],result[1])) \n"
   ]
  },
  {
   "cell_type": "code",
   "execution_count": 11,
   "metadata": {
    "scrolled": true
   },
   "outputs": [
    {
     "name": "stdout",
     "output_type": "stream",
     "text": [
      "Converged - Overall Training Accuracy: 90.0\n",
      "Total Iterations:841\n",
      "0.9\n"
     ]
    }
   ],
   "source": [
    "result = back_prop(X,R,H,K,D,0.05,0.9,2000,0,0,0)\n",
    "print (get_accuracy(X, R,H,K,D, result[0],result[1]))"
   ]
  },
  {
   "cell_type": "code",
   "execution_count": 12,
   "metadata": {},
   "outputs": [
    {
     "name": "stdout",
     "output_type": "stream",
     "text": [
      "Converged - Overall Training Accuracy: 90.0\n",
      "Total Iterations:667\n",
      "0.9\n"
     ]
    }
   ],
   "source": [
    "result = back_prop(X,R,H,K,D,0.05,0.9,2000,0.3,0,0)\n",
    "print (get_accuracy(X, R,H,K,D, result[0],result[1]))"
   ]
  },
  {
   "cell_type": "code",
   "execution_count": 17,
   "metadata": {},
   "outputs": [
    {
     "name": "stdout",
     "output_type": "stream",
     "text": [
      "Converged - Overall Training Accuracy: 90.0\n",
      "Total Iterations:426\n",
      "0.9\n"
     ]
    }
   ],
   "source": [
    "result = back_prop(X,R,H,K,D,0.05,0.9,2000,0,0.01,0.9)\n",
    "print (get_accuracy(X, R,H,K,D, result[0],result[1]))"
   ]
  },
  {
   "cell_type": "code",
   "execution_count": 14,
   "metadata": {},
   "outputs": [
    {
     "name": "stdout",
     "output_type": "stream",
     "text": [
      "Converged - Overall Training Accuracy: 90.0\n",
      "Total Iterations:250\n",
      "0.9\n"
     ]
    }
   ],
   "source": [
    "result = back_prop(X,R,H,K,D,0.05,0.9,2000,0.3,0.01,0.9)\n",
    "print (get_accuracy(X, R,H,K,D, result[0],result[1]))"
   ]
  },
  {
   "cell_type": "code",
   "execution_count": null,
   "metadata": {},
   "outputs": [],
   "source": []
  }
 ],
 "metadata": {
  "colab": {
   "collapsed_sections": [],
   "name": "MultiPerceptron.ipynb",
   "provenance": [],
   "version": "0.3.2"
  },
  "kernelspec": {
   "display_name": "Python 3",
   "language": "python",
   "name": "python3"
  },
  "language_info": {
   "codemirror_mode": {
    "name": "ipython",
    "version": 3
   },
   "file_extension": ".py",
   "mimetype": "text/x-python",
   "name": "python",
   "nbconvert_exporter": "python",
   "pygments_lexer": "ipython3",
   "version": "3.6.5"
  }
 },
 "nbformat": 4,
 "nbformat_minor": 1
}
